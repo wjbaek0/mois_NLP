{
 "cells": [
  {
   "cell_type": "markdown",
   "metadata": {
    "id": "VWtbx53R6fL5"
   },
   "source": [
    "# Import"
   ]
  },
  {
   "cell_type": "markdown",
   "metadata": {
    "id": "1jnR5s1BKCDF"
   },
   "source": [
    "## Import library"
   ]
  },
  {
   "cell_type": "code",
   "execution_count": 1,
   "metadata": {
    "colab": {
     "base_uri": "https://localhost:8080/"
    },
    "id": "JwJV7t0eL_rM",
    "outputId": "46ab045b-04e9-4d7d-90c4-551f6ca7aa49"
   },
   "outputs": [],
   "source": [
    "# # colab\n",
    "# from google.colab import drive\n",
    "# drive.mount('/content/drive')"
   ]
  },
  {
   "cell_type": "code",
   "execution_count": 1,
   "metadata": {
    "colab": {
     "base_uri": "https://localhost:8080/"
    },
    "id": "CKTFg7fYL_rN",
    "outputId": "7436414f-ced3-4e79-a008-17a039ab0a6b"
   },
   "outputs": [
    {
     "name": "stdout",
     "output_type": "stream",
     "text": [
      "jupyter envirionment\n"
     ]
    }
   ],
   "source": [
    "import os\n",
    "import sys\n",
    "import warnings\n",
    "import numpy as np\n",
    "import pandas as pd\n",
    "import json\n",
    "\n",
    "import matplotlib.pyplot as plt\n",
    "%matplotlib inline\n",
    "import seaborn as sns\n",
    "sns.set(style='white', context='notebook', palette='deep')\n",
    "\n",
    "warnings.filterwarnings(action='ignore')\n",
    "\n",
    "if get_ipython():\n",
    "    print(\"jupyter envirionment\")\n",
    "    PROJECT_DIR = os.path.abspath(os.path.join(os.path.dirname('__file__'), '..'))\n",
    "    from tqdm import tqdm_notebook as tqdm  # 이거 안해주면 한 줄씩 출력됨 ;;\n",
    "else:\n",
    "    print(\"command shell envirionment\")\n",
    "    PROJECT_DIR = os.path.abspath(os.path.join(os.path.dirname(__file__), '..'))\n",
    "    from tqdm import tqdm\n",
    "\n",
    "# sys.pathdp PROJECT_DIR 추가\n",
    "sys.path.insert(0, PROJECT_DIR)"
   ]
  },
  {
   "cell_type": "code",
   "execution_count": 2,
   "metadata": {
    "id": "ITLJZh81pEi8"
   },
   "outputs": [],
   "source": [
    "DATA_DIR = PROJECT_DIR + '/ext/data'\n",
    "RAW_DATA_DIR = DATA_DIR + '/raw'"
   ]
  },
  {
   "cell_type": "markdown",
   "metadata": {
    "id": "9upenviH_t9W"
   },
   "source": [
    "## Import data"
   ]
  },
  {
   "cell_type": "markdown",
   "metadata": {
    "id": "Im9scxUeYFn2"
   },
   "source": [
    "생성요약과 추출요약 데이터 값이나 수는 동일\n",
    "(다만ID가 다를 수 있음)"
   ]
  },
  {
   "cell_type": "code",
   "execution_count": 4,
   "metadata": {
    "colab": {
     "base_uri": "https://localhost:8080/",
     "height": 419
    },
    "id": "YMd_6EuCAuuF",
    "outputId": "bfe9cb43-9a56-4873-f932-c69c476e8f04",
    "scrolled": true
   },
   "outputs": [
    {
     "data": {
      "text/html": [
       "<div>\n",
       "<style scoped>\n",
       "    .dataframe tbody tr th:only-of-type {\n",
       "        vertical-align: middle;\n",
       "    }\n",
       "\n",
       "    .dataframe tbody tr th {\n",
       "        vertical-align: top;\n",
       "    }\n",
       "\n",
       "    .dataframe thead th {\n",
       "        text-align: right;\n",
       "    }\n",
       "</style>\n",
       "<table border=\"1\" class=\"dataframe\">\n",
       "  <thead>\n",
       "    <tr style=\"text-align: right;\">\n",
       "      <th></th>\n",
       "      <th>media</th>\n",
       "      <th>id</th>\n",
       "      <th>article_original</th>\n",
       "      <th>abstractive</th>\n",
       "      <th>extractive</th>\n",
       "    </tr>\n",
       "  </thead>\n",
       "  <tbody>\n",
       "    <tr>\n",
       "      <th>0</th>\n",
       "      <td>당진시대</td>\n",
       "      <td>327827480</td>\n",
       "      <td>[당진시 문화관광과를 대상으로 하는 행정사무감사에서 당진시립합창단 관계자가 보낸 것...</td>\n",
       "      <td>지난 6일 당진시의회 행정사무감사에서 '합창단이 소리를 작게 낼 것이니 알고 있으라...</td>\n",
       "      <td>[0, 1, 2]</td>\n",
       "    </tr>\n",
       "    <tr>\n",
       "      <th>1</th>\n",
       "      <td>국제신문</td>\n",
       "      <td>339840364</td>\n",
       "      <td>[미국 메이저리그(MLB)에서 활동하는 한국 선수들의 시즌 초반 희비가 엇갈리고 있...</td>\n",
       "      <td>LA 에인절스의 최지만이 맹활약을 하여 시즌 타율 0.250에서 0.313으로 올리...</td>\n",
       "      <td>[0, 1, 3]</td>\n",
       "    </tr>\n",
       "    <tr>\n",
       "      <th>2</th>\n",
       "      <td>기호일보</td>\n",
       "      <td>371071597</td>\n",
       "      <td>[인천 부영공원 운영 생활야구협회 80여 동호회 팀에 260만 원씩 받아, 국유지로...</td>\n",
       "      <td>16일 부평구와 협회 등에 따르면 부영공원 안에 있는 야구장을 구생활체육야구협회가 ...</td>\n",
       "      <td>[6, 7, 10]</td>\n",
       "    </tr>\n",
       "    <tr>\n",
       "      <th>3</th>\n",
       "      <td>대구일보</td>\n",
       "      <td>354806783</td>\n",
       "      <td>[대구·경북첨단의료산업진흥재단 의약생산센터는 항암주사제 무균충전 시설을 갖추고 있다...</td>\n",
       "      <td>대구·경북첨단의료산업진흥재단 의약생산센터는 약사법 시행규칙에서 정한 바에 따라 전용...</td>\n",
       "      <td>[1, 6, 4]</td>\n",
       "    </tr>\n",
       "    <tr>\n",
       "      <th>4</th>\n",
       "      <td>대구신문</td>\n",
       "      <td>347022773</td>\n",
       "      <td>[국내 유통되는 탄산음료 중 식품의약품안전처에 품질인증을 받은 제품이 하나도 없는 ...</td>\n",
       "      <td>식품의약품안전처는 29일 어린이가 즐겨마시는 음료를 대상으로 영양성분을 조사한 결과...</td>\n",
       "      <td>[2, 3, 10]</td>\n",
       "    </tr>\n",
       "  </tbody>\n",
       "</table>\n",
       "</div>"
      ],
      "text/plain": [
       "  media         id                                   article_original  \\\n",
       "0  당진시대  327827480  [당진시 문화관광과를 대상으로 하는 행정사무감사에서 당진시립합창단 관계자가 보낸 것...   \n",
       "1  국제신문  339840364  [미국 메이저리그(MLB)에서 활동하는 한국 선수들의 시즌 초반 희비가 엇갈리고 있...   \n",
       "2  기호일보  371071597  [인천 부영공원 운영 생활야구협회 80여 동호회 팀에 260만 원씩 받아, 국유지로...   \n",
       "3  대구일보  354806783  [대구·경북첨단의료산업진흥재단 의약생산센터는 항암주사제 무균충전 시설을 갖추고 있다...   \n",
       "4  대구신문  347022773  [국내 유통되는 탄산음료 중 식품의약품안전처에 품질인증을 받은 제품이 하나도 없는 ...   \n",
       "\n",
       "                                         abstractive  extractive  \n",
       "0  지난 6일 당진시의회 행정사무감사에서 '합창단이 소리를 작게 낼 것이니 알고 있으라...   [0, 1, 2]  \n",
       "1  LA 에인절스의 최지만이 맹활약을 하여 시즌 타율 0.250에서 0.313으로 올리...   [0, 1, 3]  \n",
       "2  16일 부평구와 협회 등에 따르면 부영공원 안에 있는 야구장을 구생활체육야구협회가 ...  [6, 7, 10]  \n",
       "3  대구·경북첨단의료산업진흥재단 의약생산센터는 약사법 시행규칙에서 정한 바에 따라 전용...   [1, 6, 4]  \n",
       "4  식품의약품안전처는 29일 어린이가 즐겨마시는 음료를 대상으로 영양성분을 조사한 결과...  [2, 3, 10]  "
      ]
     },
     "execution_count": 4,
     "metadata": {},
     "output_type": "execute_result"
    }
   ],
   "source": [
    "with open(RAW_DATA_DIR + '/ext/train.jsonl', 'r') as json_file:\n",
    "    json_list = list(json_file)\n",
    "\n",
    "trains = []\n",
    "for json_str in json_list:\n",
    "    line = json.loads(json_str)\n",
    "    trains.append(line)\n",
    "\n",
    "train_df = pd.DataFrame(trains)\n",
    "train_df.head()"
   ]
  },
  {
   "cell_type": "markdown",
   "metadata": {},
   "source": [
    "데이터는 media, id, article_original, abstractive\textractive로 구성되어 있습니다."
   ]
  },
  {
   "cell_type": "code",
   "execution_count": 5,
   "metadata": {},
   "outputs": [
    {
     "data": {
      "text/html": [
       "<div>\n",
       "<style scoped>\n",
       "    .dataframe tbody tr th:only-of-type {\n",
       "        vertical-align: middle;\n",
       "    }\n",
       "\n",
       "    .dataframe tbody tr th {\n",
       "        vertical-align: top;\n",
       "    }\n",
       "\n",
       "    .dataframe thead th {\n",
       "        text-align: right;\n",
       "    }\n",
       "</style>\n",
       "<table border=\"1\" class=\"dataframe\">\n",
       "  <thead>\n",
       "    <tr style=\"text-align: right;\">\n",
       "      <th></th>\n",
       "      <th>media</th>\n",
       "      <th>id</th>\n",
       "      <th>article_original</th>\n",
       "      <th>abstractive</th>\n",
       "      <th>extractive</th>\n",
       "      <th>extractive_sents</th>\n",
       "      <th>no_extractive_sents</th>\n",
       "    </tr>\n",
       "  </thead>\n",
       "  <tbody>\n",
       "    <tr>\n",
       "      <th>0</th>\n",
       "      <td>당진시대</td>\n",
       "      <td>327827480</td>\n",
       "      <td>[당진시 문화관광과를 대상으로 하는 행정사무감사에서 당진시립합창단 관계자가 보낸 것...</td>\n",
       "      <td>지난 6일 당진시의회 행정사무감사에서 '합창단이 소리를 작게 낼 것이니 알고 있으라...</td>\n",
       "      <td>[0, 1, 2]</td>\n",
       "      <td>[당진시 문화관광과를 대상으로 하는 행정사무감사에서 당진시립합창단 관계자가 보낸 것...</td>\n",
       "      <td>[문제의 문자메세지를 전달받은 문화관광과는 감사법무담당관에게 조사를 의뢰했다., 권...</td>\n",
       "    </tr>\n",
       "    <tr>\n",
       "      <th>1</th>\n",
       "      <td>국제신문</td>\n",
       "      <td>339840364</td>\n",
       "      <td>[미국 메이저리그(MLB)에서 활동하는 한국 선수들의 시즌 초반 희비가 엇갈리고 있...</td>\n",
       "      <td>LA 에인절스의 최지만이 맹활약을 하여 시즌 타율 0.250에서 0.313으로 올리...</td>\n",
       "      <td>[0, 1, 3]</td>\n",
       "      <td>[미국 메이저리그(MLB)에서 활동하는 한국 선수들의 시즌 초반 희비가 엇갈리고 있...</td>\n",
       "      <td>[최지만은 2일(한국시간) 미국 플로리다주 세인트피터즈버그 트로피카나 필드에서 열린...</td>\n",
       "    </tr>\n",
       "    <tr>\n",
       "      <th>2</th>\n",
       "      <td>기호일보</td>\n",
       "      <td>371071597</td>\n",
       "      <td>[인천 부영공원 운영 생활야구협회 80여 동호회 팀에 260만 원씩 받아, 국유지로...</td>\n",
       "      <td>16일 부평구와 협회 등에 따르면 부영공원 안에 있는 야구장을 구생활체육야구협회가 ...</td>\n",
       "      <td>[6, 7, 10]</td>\n",
       "      <td>[16일 부평구와 협회 등에 따르면 부영공원 안에 있는 야구장을 구생활체육야구협회가...</td>\n",
       "      <td>[인천 부영공원 운영 생활야구협회 80여 동호회 팀에 260만 원씩 받아, 국유지로...</td>\n",
       "    </tr>\n",
       "    <tr>\n",
       "      <th>3</th>\n",
       "      <td>대구일보</td>\n",
       "      <td>354806783</td>\n",
       "      <td>[대구·경북첨단의료산업진흥재단 의약생산센터는 항암주사제 무균충전 시설을 갖추고 있다...</td>\n",
       "      <td>대구·경북첨단의료산업진흥재단 의약생산센터는 약사법 시행규칙에서 정한 바에 따라 전용...</td>\n",
       "      <td>[1, 6, 4]</td>\n",
       "      <td>[대구·경북첨단의료산업진흥재단(이하 대구첨복재단) 의약생산센터는 주세제 특수제제인 ...</td>\n",
       "      <td>[대구·경북첨단의료산업진흥재단 의약생산센터는 항암주사제 무균충전 시설을 갖추고 있다...</td>\n",
       "    </tr>\n",
       "    <tr>\n",
       "      <th>4</th>\n",
       "      <td>대구신문</td>\n",
       "      <td>347022773</td>\n",
       "      <td>[국내 유통되는 탄산음료 중 식품의약품안전처에 품질인증을 받은 제품이 하나도 없는 ...</td>\n",
       "      <td>식품의약품안전처는 29일 어린이가 즐겨마시는 음료를 대상으로 영양성분을 조사한 결과...</td>\n",
       "      <td>[2, 3, 10]</td>\n",
       "      <td>[식품의약품안전처는 29일 여름철 어린이가 즐겨 마시는 탄산음료 282개와 혼합음료...</td>\n",
       "      <td>[국내 유통되는 탄산음료 중 식품의약품안전처에 품질인증을 받은 제품이 하나도 없는 ...</td>\n",
       "    </tr>\n",
       "  </tbody>\n",
       "</table>\n",
       "</div>"
      ],
      "text/plain": [
       "  media         id                                   article_original  \\\n",
       "0  당진시대  327827480  [당진시 문화관광과를 대상으로 하는 행정사무감사에서 당진시립합창단 관계자가 보낸 것...   \n",
       "1  국제신문  339840364  [미국 메이저리그(MLB)에서 활동하는 한국 선수들의 시즌 초반 희비가 엇갈리고 있...   \n",
       "2  기호일보  371071597  [인천 부영공원 운영 생활야구협회 80여 동호회 팀에 260만 원씩 받아, 국유지로...   \n",
       "3  대구일보  354806783  [대구·경북첨단의료산업진흥재단 의약생산센터는 항암주사제 무균충전 시설을 갖추고 있다...   \n",
       "4  대구신문  347022773  [국내 유통되는 탄산음료 중 식품의약품안전처에 품질인증을 받은 제품이 하나도 없는 ...   \n",
       "\n",
       "                                         abstractive  extractive  \\\n",
       "0  지난 6일 당진시의회 행정사무감사에서 '합창단이 소리를 작게 낼 것이니 알고 있으라...   [0, 1, 2]   \n",
       "1  LA 에인절스의 최지만이 맹활약을 하여 시즌 타율 0.250에서 0.313으로 올리...   [0, 1, 3]   \n",
       "2  16일 부평구와 협회 등에 따르면 부영공원 안에 있는 야구장을 구생활체육야구협회가 ...  [6, 7, 10]   \n",
       "3  대구·경북첨단의료산업진흥재단 의약생산센터는 약사법 시행규칙에서 정한 바에 따라 전용...   [1, 6, 4]   \n",
       "4  식품의약품안전처는 29일 어린이가 즐겨마시는 음료를 대상으로 영양성분을 조사한 결과...  [2, 3, 10]   \n",
       "\n",
       "                                    extractive_sents  \\\n",
       "0  [당진시 문화관광과를 대상으로 하는 행정사무감사에서 당진시립합창단 관계자가 보낸 것...   \n",
       "1  [미국 메이저리그(MLB)에서 활동하는 한국 선수들의 시즌 초반 희비가 엇갈리고 있...   \n",
       "2  [16일 부평구와 협회 등에 따르면 부영공원 안에 있는 야구장을 구생활체육야구협회가...   \n",
       "3  [대구·경북첨단의료산업진흥재단(이하 대구첨복재단) 의약생산센터는 주세제 특수제제인 ...   \n",
       "4  [식품의약품안전처는 29일 여름철 어린이가 즐겨 마시는 탄산음료 282개와 혼합음료...   \n",
       "\n",
       "                                 no_extractive_sents  \n",
       "0  [문제의 문자메세지를 전달받은 문화관광과는 감사법무담당관에게 조사를 의뢰했다., 권...  \n",
       "1  [최지만은 2일(한국시간) 미국 플로리다주 세인트피터즈버그 트로피카나 필드에서 열린...  \n",
       "2  [인천 부영공원 운영 생활야구협회 80여 동호회 팀에 260만 원씩 받아, 국유지로...  \n",
       "3  [대구·경북첨단의료산업진흥재단 의약생산센터는 항암주사제 무균충전 시설을 갖추고 있다...  \n",
       "4  [국내 유통되는 탄산음료 중 식품의약품안전처에 품질인증을 받은 제품이 하나도 없는 ...  "
      ]
     },
     "execution_count": 5,
     "metadata": {},
     "output_type": "execute_result"
    }
   ],
   "source": [
    "train_df['extractive_sents'] = train_df.apply(lambda row: list(np.array(row['article_original'])[row['extractive']]) , axis=1)\n",
    "train_df['no_extractive_sents'] = train_df.apply(lambda row: [sent for sent in row['article_original'] if sent not in row['extractive_sents']] , axis=1)\n",
    "train_df.head()"
   ]
  },
  {
   "cell_type": "markdown",
   "metadata": {
    "id": "pBUHUc7SXDjV"
   },
   "source": [
    "# EDA"
   ]
  },
  {
   "cell_type": "markdown",
   "metadata": {},
   "source": [
    "## media 분포"
   ]
  },
  {
   "cell_type": "code",
   "execution_count": 8,
   "metadata": {
    "colab": {
     "base_uri": "https://localhost:8080/"
    },
    "id": "_2kUAa6UILa3",
    "outputId": "5a429601-80a1-42c0-ee2a-647ec4c391da",
    "scrolled": true
   },
   "outputs": [
    {
     "data": {
      "text/plain": [
       "기호일보      7166\n",
       "국제신문      6678\n",
       "대전일보      4831\n",
       "광주일보      4155\n",
       "남도일보      4148\n",
       "광주매일신문    3783\n",
       "대구신문      3750\n",
       "대구일보      3060\n",
       "경기일보      2319\n",
       "당진시대      2014\n",
       "광양신문       899\n",
       "Name: media, dtype: int64"
      ]
     },
     "execution_count": 8,
     "metadata": {},
     "output_type": "execute_result"
    }
   ],
   "source": [
    "train_df['media'].value_counts()"
   ]
  },
  {
   "cell_type": "markdown",
   "metadata": {},
   "source": [
    "총 11개 media로부터 데이터가 구성되어 있습니다. 가장 수가 적은 광양신문도 899개로 적지 않아 media별로 요약문 특성이 다르다면 좋은 정보가 될 수 있습니다."
   ]
  },
  {
   "cell_type": "markdown",
   "metadata": {
    "id": "CHONPoyXY1EF"
   },
   "source": [
    "## 원문(article_original)"
   ]
  },
  {
   "cell_type": "code",
   "execution_count": 9,
   "metadata": {
    "colab": {
     "base_uri": "https://localhost:8080/"
    },
    "id": "DNZvyOQRSROR",
    "outputId": "78aa8d85-5499-4356-8e8c-91ad94b63b4b",
    "scrolled": true
   },
   "outputs": [
    {
     "data": {
      "text/plain": [
       "['미국 메이저리그(MLB)에서 활동하는 한국 선수들의 시즌 초반 희비가 엇갈리고 있다.',\n",
       " 'LA 에인절스의 최지만은 맹활약으로 주전 입지를 굳혀가는 반면 텍사스 레인저스의 추신수는 개막전 선발에서 밀려나는 수모를 당한 뒤에서도 좀처럼 반등을 하지 못하고 있다.',\n",
       " '최지만은 2일(한국시간) 미국 플로리다주 세인트피터즈버그 트로피카나 필드에서 열린 2019 미국프로야구 메이저리그 콜로라도 로키스와 홈경기에 3번 타자 1루수로 선발 출전해 4타수 2안타를 치고 1득점을 올렸다.',\n",
       " '시즌 타율은 0.250에서 0.313(16타수 5안타)로 올랐다.',\n",
       " '최지만은 개막전에서 4타수 무안타로 침묵했으나 이후 3경기 연속 안타이자 2경기 연속 멀티 히트를 뽑아내며 입지를 굳혀갔다.',\n",
       " '2016년 LA 에인절스 소속으로 메이저리그에 데뷔한 최지만이 2경기 연속 멀티 히트를 친 것은 이번이 처음이다.',\n",
       " '스코어가 벌어진 탓에 콜로라도 불펜의 필승조인 오승환과 최지만의 맞대결은 성사되지 않았다.',\n",
       " '추신수는 들쭉날쭉한 출전 일정 탓인지 타격감을 찾지 못하고 있다.',\n",
       " '추신수는 이날 텍사스주 알링턴 글로브 라이프 파크에서 열린 휴스턴 애스트로스와 홈경기에 1번 지명타자로 선발 출전했지만 4타수 무안타로 침묵했다.',\n",
       " '시즌 타율은 0.167에서 0.100(10타수 1안타)로 떨어졌다.',\n",
       " '추신수는 11년 만에 개막전 선발 라인업에서 제외되는 등 이날까지 텍사스가 치른 4경기 가운데 2경기에만 선발 출전했다.',\n",
       " '크리스 우드워드 텍사스 감독은 상대 선발이 좌완이면 좌타자인 추신수 대신 우타자인 헌터 펜스를 선발 지명타자로 기용하고 있다.',\n",
       " '텍사스(2승 2패)는 휴스턴 마운드에 2안타로 꽁꽁 묶이며 1-2로 패해 2연승 행진을 마감했다.',\n",
       " '한편 피츠버그 파이리츠의 강정호는 914일 만에 홈경기에 나섰지만 안타를 만들어내지 못했다.',\n",
       " '이날 펜실베이니아주 피츠버그의 PNC 파크에서 열린 세인트루이스 카디널스와 홈 개막전에 선발 라인업에서 제외된 강정호는 벤치에서 경기를 시작했다.',\n",
       " '강정호는 4-4 동점이 된 8회 초 2사 2루에서 3루 대수비로 교체 출전했다.',\n",
       " '강정호가 PNC 파크 그라운드를 다시 밟은 것은 2016년 9월 30일 시카고 컵스와의 홈 최종전 이후 정확히 914일 만이다.',\n",
       " '강정호는 8회 말 선두타자 모란이 솔로포를 터트려 스코어가 5-4가 된 이후 후속 타석에 들어섰지만 중견수 뜬공으로 물러났다.',\n",
       " '연장 10회 말 1사에서 다시 타석에 들어선 강정호는 세인트루이스의 우완 ‘파이어볼러’ 조던 힉스에게 3구 삼진으로 물러났다.',\n",
       " '2타수 무안타 1삼진으로 침묵한 강정호의 시즌 타율은 0.222(9타수 2안타)가 됐다.',\n",
       " '피츠버그는 연장 11회 혈투 끝에 5-6으로 패했다.']"
      ]
     },
     "execution_count": 9,
     "metadata": {},
     "output_type": "execute_result"
    }
   ],
   "source": [
    "train_df['article_original'][1]"
   ]
  },
  {
   "cell_type": "markdown",
   "metadata": {},
   "source": [
    "article_original 데이터는 문장이 이미 분리되어 list로 구성되어 있어 sentence tokenizing 과정 없이 바로 분석이 가능합니다."
   ]
  },
  {
   "cell_type": "code",
   "execution_count": 10,
   "metadata": {
    "colab": {
     "base_uri": "https://localhost:8080/",
     "height": 412
    },
    "id": "MHHstuvyZLd3",
    "outputId": "e4e34a8f-d174-4189-fd21-96752bb68a17",
    "scrolled": true
   },
   "outputs": [
    {
     "data": {
      "text/plain": [
       "<AxesSubplot:xlabel='article_original'>"
      ]
     },
     "execution_count": 10,
     "metadata": {},
     "output_type": "execute_result"
    },
    {
     "data": {
      "image/png": "[encoded data removed]",
      "text/plain": [
       "<Figure size 1152x432 with 2 Axes>"
      ]
     },
     "metadata": {},
     "output_type": "display_data"
    }
   ],
   "source": [
    "# sentence\n",
    "original_sent_counts = train_df['article_original'].apply(len)\n",
    "\n",
    "fig, axs = plt.subplots(1, 2, figsize=(16, 6), gridspec_kw=dict(width_ratios=[4, 3]))\n",
    "sns.histplot(original_sent_counts, binwidth=1, ax=axs[0])\n",
    "sns.boxplot(original_sent_counts, ax=axs[1])"
   ]
  },
  {
   "cell_type": "code",
   "execution_count": null,
   "metadata": {
    "colab": {
     "base_uri": "https://localhost:8080/"
    },
    "id": "XOlEn80bfJlB",
    "outputId": "f7282122-ef9d-4776-e6ee-a32a30bcd0ff",
    "scrolled": true
   },
   "outputs": [
    {
     "data": {
      "text/plain": [
       "count    42803.000000\n",
       "mean        13.256594\n",
       "std          5.965359\n",
       "min          3.000000\n",
       "25%          9.000000\n",
       "50%         12.000000\n",
       "75%         16.000000\n",
       "max         97.000000\n",
       "Name: article_original, dtype: float64"
      ]
     },
     "execution_count": 9,
     "metadata": {
      "tags": []
     },
     "output_type": "execute_result"
    }
   ],
   "source": [
    "original_sent_counts.describe()"
   ]
  },
  {
   "cell_type": "code",
   "execution_count": null,
   "metadata": {
    "colab": {
     "base_uri": "https://localhost:8080/",
     "height": 412
    },
    "id": "L7oNQmdbiFwI",
    "outputId": "72a3464f-e4a0-4f06-e602-6c5190917863"
   },
   "outputs": [
    {
     "data": {
      "text/plain": [
       "<matplotlib.axes._subplots.AxesSubplot at 0x7faaa1f40710>"
      ]
     },
     "execution_count": 10,
     "metadata": {
      "tags": []
     },
     "output_type": "execute_result"
    },
    {
     "data": {
      "image/png": "[encoded data removed]",
      "text/plain": [
       "<Figure size 1152x432 with 2 Axes>"
      ]
     },
     "metadata": {
      "tags": []
     },
     "output_type": "display_data"
    }
   ],
   "source": [
    "# word 수\n",
    "original_word_counts = train_df['article_original'].apply(lambda x:len(' '.join(x).split(' ')))\n",
    "\n",
    "fig, axs = plt.subplots(1, 2, figsize=(16, 6), gridspec_kw=dict(width_ratios=[4, 3]))\n",
    "sns.histplot(original_word_counts, binwidth=1, ax=axs[0])\n",
    "sns.boxplot(original_word_counts, ax=axs[1])"
   ]
  },
  {
   "cell_type": "code",
   "execution_count": null,
   "metadata": {
    "colab": {
     "base_uri": "https://localhost:8080/"
    },
    "id": "sxdcUjNMcBq6",
    "outputId": "c4932a7f-2944-4456-d26d-1ca0219653e2",
    "scrolled": true
   },
   "outputs": [
    {
     "data": {
      "text/plain": [
       "count    42803.000000\n",
       "mean       214.226456\n",
       "std         64.350373\n",
       "min         90.000000\n",
       "25%        164.000000\n",
       "50%        198.000000\n",
       "75%        251.000000\n",
       "max        501.000000\n",
       "Name: article_original, dtype: float64"
      ]
     },
     "execution_count": 11,
     "metadata": {
      "tags": []
     },
     "output_type": "execute_result"
    }
   ],
   "source": [
    "original_word_counts.describe()"
   ]
  },
  {
   "cell_type": "markdown",
   "metadata": {},
   "source": [
    "본문의 길이는 평균 13문장 및 214개 정도의 단어로 구성되어 있습니다.   \n",
    "이는 기존 summary task에서 많이 쓰이는 CNN(평균 34문장, 760단어)이나 DailyMail(평균 29문장, 653단어) 같은 데이터와 비교했을 때    \n",
    "상당히 길이가 적은 편에 속한다고 할 수 있습니다."
   ]
  },
  {
   "cell_type": "markdown",
   "metadata": {
    "id": "2SLvm3CPn7qm"
   },
   "source": [
    "## 생성요약 정답(abstractive)"
   ]
  },
  {
   "cell_type": "code",
   "execution_count": null,
   "metadata": {
    "colab": {
     "base_uri": "https://localhost:8080/",
     "height": 35
    },
    "id": "s5Zbsmu3oPuA",
    "outputId": "a17e74b1-b0f8-4153-c044-7d97047aa00b"
   },
   "outputs": [
    {
     "data": {
      "application/vnd.google.colaboratory.intrinsic+json": {
       "type": "string"
      },
      "text/plain": [
       "\"지난 6일 당진시의회 행정사무감사에서 '합창단이 소리를 작게 낼 것이니 알고 있으라'라는 문자 등으로 불거진 합창단의 의무 불이행 논란에 대해 행정사무조사특별위원회를 구성해 조사를 수행하겠다는 의견을 표명했다.\""
      ]
     },
     "execution_count": 12,
     "metadata": {
      "tags": []
     },
     "output_type": "execute_result"
    }
   ],
   "source": [
    "train_df['abstractive'][0]"
   ]
  },
  {
   "cell_type": "markdown",
   "metadata": {
    "id": "spqby7LJdwL3"
   },
   "source": [
    "### Novel N-gram"
   ]
  },
  {
   "cell_type": "markdown",
   "metadata": {},
   "source": [
    "원문 문장(article_original)과 사람이 생성한 요약문장(abstractive) 간 단어가 얼마나 겹치는지 확인 "
   ]
  },
  {
   "cell_type": "markdown",
   "metadata": {},
   "source": [
    "#### 함수 테스트"
   ]
  },
  {
   "cell_type": "code",
   "execution_count": 77,
   "metadata": {},
   "outputs": [
    {
     "data": {
      "text/plain": [
       "['지난', '6', '일', '당진시', '의회', '행정', '사무', '감사', '가', '이루', '어', '졌', '다', '.']"
      ]
     },
     "execution_count": 77,
     "metadata": {},
     "output_type": "execute_result"
    }
   ],
   "source": [
    "# from konlpy.tag import Mecab\n",
    "\n",
    "# tokenizer = Mecab()\n",
    "# tokenizer.morphs(\"지난 6일  당진시의회 행정사무감사가 이루어졌다.\")"
   ]
  },
  {
   "cell_type": "code",
   "execution_count": 132,
   "metadata": {},
   "outputs": [],
   "source": [
    "def n_grams(tokens, n):\n",
    "    \"\"\"\n",
    "    If length of tokens less then n, return empty list\n",
    "    \"\"\"\n",
    "    l = len(tokens)\n",
    "    return [tuple(tokens[i:i + n]) for i in range(l) if i + n <= l]"
   ]
  },
  {
   "cell_type": "code",
   "execution_count": 134,
   "metadata": {},
   "outputs": [
    {
     "name": "stdout",
     "output_type": "stream",
     "text": [
      "[]\n",
      "[('건너뛰기', 'ad'), ('ad', 'sdf')]\n"
     ]
    }
   ],
   "source": [
    "print(n_grams(['건너뛰기'], 2))\n",
    "print(n_grams(['건너뛰기', 'ad', 'sdf'], 2))"
   ]
  },
  {
   "cell_type": "code",
   "execution_count": 145,
   "metadata": {},
   "outputs": [],
   "source": [
    "def cal_novel(source, summary, n=2, use_tokenizer=False):\n",
    "    if use_tokenizer == True:\n",
    "        pass\n",
    "#         tokenizer = Mecab()\n",
    "#         source_tokens = tokenizer.morphs(source)\n",
    "#         summary_tokens = tokenizer.morphs(summary)\n",
    "    else:\n",
    "        source_tokens  = source.split()\n",
    "        summary_tokens = summary.split()\n",
    "        \n",
    "    source_grams = set(n_grams(source_tokens, n))\n",
    "    summary_grams = set(n_grams(summary_tokens, n))\n",
    "\n",
    "    joint = summary_grams.intersection(source_grams)\n",
    "    novel = summary_grams - joint\n",
    "\n",
    "    return len(novel), len(summary_grams)\n",
    "\n",
    "        \n",
    "def cal_novel_repeat(source_lines, summary_lines, n=2, use_tokenizer=False):\n",
    "    assert len(source_lines) == len(summary_lines)\n",
    "    \n",
    "    lines = zip(source_lines, summary_lines)\n",
    "    \n",
    "    novel_n_grams_prop_list = []\n",
    "    total_novel_grams_num = 0\n",
    "    total_summary_grams_num = 0\n",
    "    for source, summary in lines:\n",
    "        novel_grams_num, summary_grams_num = cal_novel(source, summary, n, use_tokenizer)\n",
    "        novel_n_grams_prop_list.append(novel_grams_num / (summary_grams_num + 1e-6))\n",
    "        total_novel_grams_num += novel_grams_num\n",
    "        total_summary_grams_num += summary_grams_num\n",
    "    return novel_n_grams_prop_list, total_novel_grams_num, total_summary_grams_num"
   ]
  },
  {
   "cell_type": "markdown",
   "metadata": {},
   "source": [
    "#### Novel N-gram 구해보기"
   ]
  },
  {
   "cell_type": "code",
   "execution_count": 146,
   "metadata": {},
   "outputs": [],
   "source": [
    "origin_text = train_df['article_original'].apply(lambda l: ' '.join(l) )\n",
    "summary_text = train_df['abstractive']"
   ]
  },
  {
   "cell_type": "code",
   "execution_count": 147,
   "metadata": {},
   "outputs": [
    {
     "name": "stdout",
     "output_type": "stream",
     "text": [
      "0.29965738845226947\n"
     ]
    },
    {
     "data": {
      "text/plain": [
       "<seaborn.axisgrid.FacetGrid at 0x7f57b01c56d8>"
      ]
     },
     "execution_count": 147,
     "metadata": {},
     "output_type": "execute_result"
    },
    {
     "data": {
      "image/png": "[encoded data removed]",
      "text/plain": [
       "<Figure size 360x360 with 1 Axes>"
      ]
     },
     "metadata": {},
     "output_type": "display_data"
    }
   ],
   "source": [
    "# 1-gram\n",
    "novel_n_grams_prop_list, total_novel_grams_num, total_summary_grams_num = cal_novel_repeat(origin_text, summary_text, 1)\n",
    "print(total_novel_grams_num / total_summary_grams_num)\n",
    "sns.displot(novel_n_grams_prop_list)"
   ]
  },
  {
   "cell_type": "code",
   "execution_count": 148,
   "metadata": {},
   "outputs": [
    {
     "name": "stdout",
     "output_type": "stream",
     "text": [
      "0.5465292075477393\n"
     ]
    },
    {
     "data": {
      "text/plain": [
       "<seaborn.axisgrid.FacetGrid at 0x7f57afefdef0>"
      ]
     },
     "execution_count": 148,
     "metadata": {},
     "output_type": "execute_result"
    },
    {
     "data": {
      "image/png": "[encoded data removed]",
      "text/plain": [
       "<Figure size 360x360 with 1 Axes>"
      ]
     },
     "metadata": {},
     "output_type": "display_data"
    }
   ],
   "source": [
    "# 2-gram\n",
    "novel_n_grams_prop_list, total_novel_grams_num, total_summary_grams_num = cal_novel_repeat(origin_text, summary_text, 2)\n",
    "print(total_novel_grams_num / total_summary_grams_num)\n",
    "sns.displot(novel_n_grams_prop_list)"
   ]
  },
  {
   "cell_type": "markdown",
   "metadata": {
    "id": "VsA61HiadsfY"
   },
   "source": [
    "### Sentence 분포"
   ]
  },
  {
   "cell_type": "code",
   "execution_count": 16,
   "metadata": {
    "colab": {
     "base_uri": "https://localhost:8080/"
    },
    "id": "iFecdharYe41",
    "outputId": "c66432aa-4302-4a6f-eb36-b18ba7e81875"
   },
   "outputs": [],
   "source": [
    "# !pip install kss\n",
    "import kss"
   ]
  },
  {
   "cell_type": "markdown",
   "metadata": {},
   "source": [
    "#### Sentence split test"
   ]
  },
  {
   "cell_type": "code",
   "execution_count": 21,
   "metadata": {
    "colab": {
     "base_uri": "https://localhost:8080/"
    },
    "id": "WzbGaOQi6qV6",
    "outputId": "4121752b-d21a-4c13-bbe2-0a5affe2fa92"
   },
   "outputs": [
    {
     "name": "stdout",
     "output_type": "stream",
     "text": [
      "['3일 한국자동차산업협회와 한국수입자동차협회에 따르면 한국지엠(GM)과 르노삼성 등 국내 완성차업체가 모회사의 해외 생산 차량을 수입해 국내에 판매하는 OEM 수입차의 판매량이 2017년까지 하락세를 보이다', '지난해 반등했으며 수입차 대비 비중도 높아질 전망이다.']\n",
      "['2019광주세계수영선수권대회 기간 중 조선대학교에서는 수영대회의 ‘백미’인 하이다', '이빙 경기가 치러지며 조선대 본관 건물과 무등산을 배경으로 27m 높은 곳에서 뛰어내리는 아찔한 광경을 순간 포착하는 등 전 세계에 광주를 알릴 수 있는 절호의 기회가 될 것으로 보이고 하이다', '이빙은 단순히 경기를 넘어서 역동적이고 예술적인 모습이 포착되는 종목이어서 관객들의 시선과 탄성을 자아낼 것으로 보인다.']\n",
      "['전과 8범 A씨는 아동청소년 강간미수 혐의로 징역1년 3월형을 살고, 5년간 전자발찌 부착 명령상태에서 지난 17일 전자발찌를 끊고 도주하다', '광주 북부경찰서가 검거하여 부착기간이 2020년 8월14일까지 늘었다.']\n",
      "[\"자유한국당 소속 윤상현 국회 외교통일위원장은 29일 일제 강점기 강제 징용 피해자에 대한 일본 기업의 배상문제로 한일관계가 역대 최악이라며 일본의 '코리아 패싱(한국 때리기)'이 심각하다고 말했다.\", '일본 정보는 일본 전범 기업들에 배상을 명령한 작년 10월의 한국 대법원 판결과 관련해 1965년 체결된 한일청구권협정에 따라 배상 문제는 해결된 것이라고 주장하며 판결 이행을 거부한 채 지난 20일 한국 정부에 제3국 위원을 포함한 중재위원회 개최를 요청했다.', '윤의원은 일본 중의원 외교위원장도 접촉해 징용 문제를 둘러싼 양국 간 갈등 해소 방안을 놓고 의견을 나눠보고 싶었지만 만나는 것조차 꺼리는 바람에 회동하지 못했다고 밝혔다.']\n",
      "[\"경기도는 지난 5일 경기창조경제혁신센터에서 국내외청년 200여 명이 참석한 '평화대담 토크쇼 비정상회담'을 개최했으며 이 날 청년들은 남북 정상회담과 북미 정상회담, 한반도 평화 실현의 방해요\", \"인 등에 대해 이야기하며 '한반도 평화'의 중요성을 강조했다.\"]\n"
     ]
    },
    {
     "data": {
      "text/plain": [
       "{',', '.', ':', '?', 'c', '‘', 'ㄱ', '다', '요', '\\ufeff'}"
      ]
     },
     "execution_count": 21,
     "metadata": {},
     "output_type": "execute_result"
    }
   ],
   "source": [
    "last_char = set()\n",
    "counter = 5\n",
    "for abstractive in train_df['abstractive'].values:\n",
    "    sents_splited = kss.split_sentences(abstractive)\n",
    "    if len(sents_splited) > 1:\n",
    "        if counter > 0:\n",
    "            print(sents_splited)\n",
    "            counter -= 1\n",
    "        for sent_splited in sents_splited:\n",
    "            last_char.add(sent_splited[-1])\n",
    "last_char"
   ]
  },
  {
   "cell_type": "markdown",
   "metadata": {},
   "source": [
    "kss 라이브러리를 활용하여 sentence split을 시행하였으나, 실제로 문장이 나눠지지 않아야 하는 부분들을 나누는 현상이 있음.\n",
    "또한 일부 abstractive summary에 이상 문자가 존재함을 발견"
   ]
  },
  {
   "cell_type": "code",
   "execution_count": null,
   "metadata": {
    "colab": {
     "base_uri": "https://localhost:8080/"
    },
    "id": "jmDYPqXTA1TD",
    "outputId": "0784e314-2853-4801-8504-f5f3a49d5c56",
    "scrolled": true
   },
   "outputs": [
    {
     "name": "stdout",
     "output_type": "stream",
     "text": [
      "2017년 9월부터 2월까지 경남 산청군 단성면 연수원 및 야구장을 관리한 직원이 경성대 학내 게시판에 총장을 비판하는 글을 올렸다가 산청에 발령을 받았다며 국가인권위원회에 진정을 접수한 것으로 알려졌다.:\n",
      "농촌지역 인구가 고령화하면서 농·어·임업 활동을 포기하거나 아예 업종을 바꾸는 전국적인 추세에 따라 '2018 농림어업조사' 결과에서 충남지역 농가는 12만 3000가구로 전년 12만 6000가구 대비 1.9% 줄었으며 어가, 임가도 일제히 감소한 것으로 나타났다.c\n",
      "자유 한국당 송언석 의원은 28일 우리나라 경제성장률이 10년 만에 최저치 도달이 좌파식 경제 실험이냐고 따졌으며 대통령 취임식에서 언급한 ‘한 번도 경험해보지 못한 나라’의 종착점이 ‘모두 함께 힘들게 사는 나라’는 아니지 않는가?”라고 반문하면서 기업의 기(氣)를 북도우는 정책을 추진해 국가 경제회복에 앞장서야 한다”고 주장했다.\n",
      " 23일 환경부의 ‘4대강 조사·평가 기획위원회’가 전날 금강과 영산강의 보 5개 가운데 3개를 해체하고 2개는 상시 개방하는 안을 제시한 것에 대해 민주·평화·정의 등 범진보진영 정당들은 일제히 환영의 목소리를 내며 합당한 조치라고 평가한 반면  한국당은 비판이지만 바른미래당은 지도부 논의를 거쳐 추후 입장을 발표할 예정이다. ‘\n",
      "영화 ‘추격자’가 TV 방영하면서 실시간 검색어에 오르며 관심을 모으고 있는 가운데 한 인터뷰에서 한재덕 대표에게 나홍진 감독 차기작이 우범곤 총기 사건을 모티프로 한다는 그 영화인가?”라고 질문하자 나홍진 감독과는 구두로 \"함께 하자\"고 이야기를 나눈 상태라고 답했다.\n",
      "광양시는 지역경제를 되살리기 위한 구봉산 관광단지 조성 산업 추진 사업설명회를 실시할 예정이다.ㄱ\n",
      "대구는 19일 DGB대구은행파크에서 열린 프로축구 K리그1 12라운드 인천 유나이티전에서 전반 세징야의 선제골과 후반 에드가의 결승골로 2-1 승리하며 선두권 도약의 발판을 마련하게 됐다.\n",
      "﻿\n",
      "﻿\n",
      "3월 4일부터 31일까지 대전일보사 1층 복합문화예술공간 Lab MAR's 에서 화성을 흥미롭게 보고 즐길 수 있도록 '화성에 대한 오해와 진실', '화성탐사의 역사', '탐사차가 보낸 화성 영상', '화성 포토존'의 4개의 존으로 구성된 '화성, 너 누구니?' 전시회를 개최한다.\n"
     ]
    }
   ],
   "source": [
    "for abstractive in train_df['abstractive'].values:\n",
    "    sents_splited = kss.split_sentences(abstractive)\n",
    "    if len(sents_splited) > 1:\n",
    "        is_multi_sent = False\n",
    "        for sent_splited in sents_splited:\n",
    "            if sent_splited[-1] in ['?', ':', 'c', '‘', 'ㄱ', '\\ufeff']:\n",
    "                print(abstractive)"
   ]
  },
  {
   "cell_type": "markdown",
   "metadata": {},
   "source": [
    "#### sentence split 시행(kss를 보완)"
   ]
  },
  {
   "cell_type": "code",
   "execution_count": null,
   "metadata": {
    "colab": {
     "base_uri": "https://localhost:8080/"
    },
    "id": "-myzSAYL78E0",
    "outputId": "7ec2d381-4fce-4d6e-9978-019c37720154"
   },
   "outputs": [
    {
     "name": "stdout",
     "output_type": "stream",
     "text": [
      "86\n"
     ]
    },
    {
     "data": {
      "text/plain": [
       "[[\"자유한국당 소속 윤상현 국회 외교통일위원장은 29일 일제 강점기 강제 징용 피해자에 대한 일본 기업의 배상문제로 한일관계가 역대 최악이라며 일본의 '코리아 패싱(한국 때리기)'이 심각하다고 말했다.\",\n",
       "  '일본 정보는 일본 전범 기업들에 배상을 명령한 작년 10월의 한국 대법원 판결과 관련해 1965년 체결된 한일청구권협정에 따라 배상 문제는 해결된 것이라고 주장하며 판결 이행을 거부한 채 지난 20일 한국 정부에 제3국 위원을 포함한 중재위원회 개최를 요청했다.',\n",
       "  '윤의원은 일본 중의원 외교위원장도 접촉해 징용 문제를 둘러싼 양국 간 갈등 해소 방안을 놓고 의견을 나눠보고 싶었지만 만나는 것조차 꺼리는 바람에 회동하지 못했다고 밝혔다.'],\n",
       " [\"농림축산식품부는 청년층의 농업분야 창업 활성화를 위해 2019년 '청년창업농 영농정착지원사업' 대상자를 선발하고 각 시군을 통해 통보했으며, 앞으로 지원 대상자 1600명에 대해서는 최장 3년간 매월 100만원씩 창업자금과 함께 영농기술 교육 등 맞춤형 지원을 제공한다고 14일 발표했다.\",\n",
       "  '농식품부는 했다고 14일 밝혔다.'],\n",
       " ['남도일보 기고-인위적인 사고로 대형 인명·재산 피해가 발생되면 안전불감증이 불러온 대형참사 되풀이되고 있다.',\n",
       "  '안전국민의식과 소방안전의식, 대처능력을 높이는 소방안전 조기교육이 시급하다.'],\n",
       " [\"한전산업개발은 그린에너지 엑스포에서 통합형 ESS인 'KEPID-ESS-200'을 선보였다.\",\n",
       "  '이 장치는 100kW미만의 소규모 태양광 발전소와 연계할 수 있으며, 일반적인 배터리룸보다 외부 기온에 영향을 받지 않고  최적의 성능을 유지할 수 있는 장점이 있다.'],\n",
       " ['인천에너지전환네트워크는 인천시에 수도권 전력 소비의 20%를 맡는 영흥 석탄발전소가 2017년 기준 온실가스 3천196만7천t을 배출했으며, 이외에도 미세먼지, 해양에 배출하는 온배수 등으로 인근 주민과 해양생태계에 피해를 줘 석탄발전 폐쇄 로드맵 수립을 촉구했다.',\n",
       "  '17일 인천시청 브리핑룸에서 기자회견을 열고 석탄발전 폐쇄 로드맵을 제시해야 한다고 촉구했다.'],\n",
       " [\"지난 12일 광주, '제3회 도시폭염 대응 포럼'에서 시민포럼과 패널토론이 진행됐다.\",\n",
       "  '이날 시민포럼 패널들은 지난해 폭염과 관련 분야별로 피해 사례를 언급하며 정부와 지자체의 적극적인 대책을 촉구했으며, 전문가들은 광주의 평균기온이 2000년 이후 전국 평균을 상회하는 가파른 상승추이를 보이고 있다며 폭염 위험성을 경고했다.'],\n",
       " ['MBC 새 월화드라마 ‘아이템’의 제작발표회에서 배우 주지훈이 \"“감독님이 적토마 같다고 해서 이게 욕인지, 칭찬인지 한참 헷갈렸다.',\n",
       "  '”며 소감을 전했다.'],\n",
       " ['조선대 지식경영연구원은 21일 오후1시 경상대학 2층 경영산학관에서 세미나를 개최한다.',\n",
       "  '이번 세미나를 통해 대한민국이 비즈니스변화와 남북문제 및 대외문제 변화에 적응하여 새로운 방향으로 해결방법을 찾아야한다며 이번 세미나를 개최하게 되었다.'],\n",
       " [\"부산시의 낙동강 하굿둑 개방이 염분이 있는 바닷물이 역류해 취수원에 피해를 줄 수 있다는 이유로 경남과 울산시가 우려를 표명한 가운데, 부산시는 '낙동강 하굿둑 운영개선 및 생태복원방안 연구' 등을 통한 시범개방으로 해수 역류로 인한 영향을 최소화하기 위한 다양한 방법을 연구하고 있다.\",\n",
       "  \"부산시의 '낙동강 하굿둑 운영개선 및 생태복원방안 연구' 용역 수행을 위해 낙동강 하굿둑 수문을 시범적으로 열기로 했는데, 이로 인해 취수원에 해를 끼칠 수 있다는 이유로 경남과 울산시가 걱정을 표하고 있다.\"],\n",
       " ['충북도는 4차 산업혁명 시대에 제조분야의 경쟁력 확보를 위해 기업 부담금을 일부 지원하는 등 스마트공장 보급 확대에 힘쓸 계획이라고 13일 밝혔으며 또한 스마트공장 수요.',\n",
       "  '공급기업 간 매칭데이, 스마트 공장 설명회도 주최할 예정이다.'],\n",
       " ['문화콘텐츠 산업 전국 매출액의 85%가 서울과 경기 지역에 집중된 반면 전남은 0.4%로 최하위인 것으로 조사됐다.',\n",
       "  '이에 김 의원은 \"지방과의 문화 양극화가 경제 양극화로 이어질 가능성이 크다\"며 \"균형 발전 방안을 수립해 대응해야 한다\"고 말 했다.'],\n",
       " [\"광주시 북구에 따르면 오는 4일 오전 10시부터 오후 4시까지 전남대 컨벤션홀 일대에서 '일자리 만남의 장'을 마련했다.\",\n",
       "  '구직 희망자는 이력서와 자기소개서, 자격증 등 관련 서류를 지참해 구인기업과 1대1 현장면접 및 2차 심층면접을 통해 취업이 가능하다.'],\n",
       " [\"충남경찰청은 지난 2월부터 약 3개월간 '사업용자동차의 불법행위'를 집중단속하여 관련자 총 72명을 형사입건했다고 23일 밝혔다.\",\n",
       "  '현행 관련법상 시장,군수,구청장의 승인이 없는 차량개조 및 운행은 1년 이하의 징역이나 1000만원 이하의 벌금 부과대상이며, 정비불량차를 운전할 경우 6개월 이하의 지역이나 200만원 이하의 벌금형으로 규정하고 있다.',\n",
       "  '충남경찰은 지자체 및 유관기관과 합동으로 단속과 수사를 확대할 예정이다.'],\n",
       " ['최근 보복운전이 지난 2년간 약 9000건에 달하는 것으로 나타나 놀라움을 주고 있다.',\n",
       "  '이런 보복운전 뵘죄는 특정인을 자동차로 위협하거나 진로방해 고의 급제동, 폭행, 협박 등을 일컫는 것으로 보복봄죄 근절을 위한 제도적 개선이 필요하다.'],\n",
       " ['세월호 참사 5주기를 하루 앞둔 지난 15일 오후, 차명진 자유한국당 경기 부천 소사 당협위원장의 SNS 글이 논란이다.',\n",
       "  '한국당의 황교안 대표와 박근혜 전대통령이 세월호 사고 책임자로 고발당한 것에 대해 세월호 유가족을 원색적인 언어로 비난하였는데, 이와 관련해 논란이 커지자 차 위원장은 사과글을 남기고 SNS와 방송 활동 중단을 선언했다.'],\n",
       " ['부산 금정구 서동은 도시환경정비사업 대상지로 지정됐으나 13년째 추진 단계에 있어 불편함을 호소하고 있다.',\n",
       "  '이에따라 도시재생사업으로 전환해야 한다는 목소리가 나오고 있다.'],\n",
       " ['광주시는 고증을 통해 희경루를 중건할 계획이다.',\n",
       "  '희경루는 7월 중 토지매입을 완료하고 8월 실시설계등의 절차를 진행할 계획으로, 문화공간도 함께 설립할 예정이다.'],\n",
       " ['광양시가 취약계층 방문건강관리서비스를 강화하였다.',\n",
       "  '이 서비스는 독거노인 등 폭염 취약계층의 건강한 여름나기를 지원하는 제도이다.'],\n",
       " ['정치와 체육을 분리하는 내용을 골자로 한 국민체육진흥법 개정안이 올 연말 시행될 예정인 가운데 시민구단인 대전시티즌도 같은 맥락에서 인사가 이뤄져야 한다는 의견이 나오고 있다.',\n",
       "  '대전시 관계자는 \"정치인은 후임 대표이사 인선 원칙에 맞지 않고 경영 능력에 무게를 두고 인물을 물색 중\"이라고 말하며 후임 대표이사 인선 하마평을 두고 곱지 않은 시선을 내보이고 있다.'],\n",
       " ['광양시 임대아파트대책연대는 기자회견을 임대사업자들의 수익창구로 변질된 분양전환 민간·공공임대아파트 임차인들의 권리 보장 촉구하고  임대아파트 분쟁조정위원회를 설치를  요구했다.',\n",
       "  '과도한 분양자격 기준을 적용해 자의적 판단으로 우선 분양전환 자격을 결정하고 부적격자를 양산했을 뿐 아니라 분양받는 임차인들에게 웃돈까지 요구했다.',\n",
       "  '정인화의원은 공공주택 특별법과 민간임대주택에 관한 개정안을 발의한바있다.'],\n",
       " [\"서삼석 의원이 26일 '국가재정법 및 국가회계법 일부 개벙법률안'을 대표발의 했다.\",\n",
       "  '이는 지역간 격차해소 사업들의 종합관리 시스템을 갖추기 위해 정부가 국가 예산 및 기금 사업 군형발전 기대효과, 보완대책 등을 포함한 보고서를 의무적으로 작성하는 것에 대한 법안이다.'],\n",
       " ['한국산업인력공단 부산지역본부는 산업인력 양성을 위해 지역 산업계와 연계하여 기능 인력 양성 등 다양한 사업을 성공적으로 수행하고 있다.',\n",
       "  '특히, 일-학습병행제도와 지역ㆍ산업 맞춤형 인력 양성체계는 산업계의 호평을 받고 있다.',\n",
       "  '향후 지속적으로 특성화고 및 마이스터 고교생이 대학 대신 취업할 수 있도록 지역 관계 기관과 협업해 나갈 계획을 밝혔다.'],\n",
       " ['21일 대구 중구청은 91명의 사상자가 발생한 중구 포정동 대보사우나 화재 사고의 피해 복구에 노력하고 있으며 이날 한국전력이 대보상가.',\n",
       "  '아파트 전력 복구 작업에 나서 완료에는 최대 2주가 걸릴 것으로 예상된다고 전했다.'],\n",
       " ['대전중앙청과(주) 채소과일 비상대책추진위원회는 점포 균등배분을 주장하며 점포개선안을 요구했다.',\n",
       "  '이에 대해 관계자는 다각적인 방안을 고심해야 하는 만큼 중도매인들과 지속 협의를 해 나갈 예정이라고 설명했다.'],\n",
       " ['광주교육 당국은 사학 공공성 강화를 위해 사립학교 교원 위탁채용을 실시하고 있지만 허울뿐인 제도라는 지적이다.',\n",
       "  '조사할만한 권한도 없다는 이유를 내새워 소극적 입장을 내놓고는 있지만 사학법인이 가지고 있는 인사권과 징계권은 교육청에서 침해할수 없는 제왕적인 사학법이기 때문이다.'],\n",
       " ['22일 광주시와 전남도.',\n",
       "  '기상청 등에 따르면 이달 초 제13호 태풍 ‘링링’의 피해 복구가 한창인 상황에서 또다시 제17호 태풍 ‘타파’가 광주·전남에 많은 비를 뿌려 직격탄을 맞으면서 이에 농민들이 망연자실 해하고 있다.'],\n",
       " ['내년부터 서울 초등학교 3학년생과 중학교 1학년생은 3월 중 표준화된 도구로 기초학력진단평가를 받아야 하며, 초등학교 3학년행은 읽기.쓰기.셈하기능력, 중학교 1학년생은 해당 능력에 국어.',\n",
       "  '영어.',\n",
       "  '수학 교과학습능력을 평가받으며 진단결과는 평소 학습태도 등에 대한 분석과 함께 보호자에게 통지된다.'],\n",
       " [\"사단법인 한국미술협회에서 주최하고 대한민국 미술대전 비구상·구상부문 운영위원회에서 주관하는 행사인 '제 38회 대한민국 미술대전'에서 구상부분(한국)에 금호동 주민 자치센터 한국화반 수강생들이 대거 입상했다.\",\n",
       "  '김진식 금호동장은“대한민국 최고 권위의 미술대전에서 대거 입선해 금호동주민자치센터의 명성을 전국에 알린 한국화반 수강생 모두에게 축하와 격려의 말을 전한다”며“앞으로도 다양한 여가활동 보장과 문화생활 향유를 위해 노력해 나가겠다”고 말했다.'],\n",
       " [\"빅뱅의 승리가 사내이사로 있었던 클럽 버닝썬에서 ' 물뽕 성폭행' 의혹이 불거졌다.\",\n",
       "  '물뽕을 마시면 15분 안에 의식을 잃고, 이후 일어난 일도 전혀 기억을 못한다고 한다.',\n",
       "  '한 보도에 따르면 버닝썬 직원이 서울에서 대마초를 팔다 사법처분을 받았다고 한다.'],\n",
       " ['백운산 계곡 불법평상대여와 바가기 상흔으로 인한 피서객의 불만이 청와대 게시판에 올라왔다.',\n",
       "  '현수막 몇개 걸고 보도자료나 뿌리는데 그치지 말고 현실적인 대책 마련이 절실하다.'],\n",
       " ['A양이 가족여행 중에 친어머니와 의붓아버지에게 살해당한 후 저수지에 버려졌다.',\n",
       "  'A양은 지속적인 학대를 두 번이나 알렸으나, 법으로부터 제대로 된 보호 조치를 받지 못했다.'],\n",
       " ['여주시는 지난 11일 한국콜마 여주아카데미연수원에서 ‘모든 세대가 함께 행복한 여주 만들기’라는 주제로 인구정책 시민토론회를 열었다.',\n",
       "  '시민토론회는 ‘청년정책과 여성정책’이란 주제를 사전 선정해 신청을 받고 현장 접수 등을 통해 20대 초반 청년부터 70대 노인까지 각계각층 70여 명의 시민들이 참여해 3시간 동안 전문 퍼실리테이터의 진행과 함께 열띤 토론을 펼쳤다.',\n",
       "  '이번 토론회를 계기로 시는 사람이 살기 좋은 여주 만들기를 위한 주제를 선정해 시민이 참여하는 인구정책 토론회를 개최할 계획이며, 각계각층 시민의 의견을 받는 인구정책 창구를 일원화할 것이라고 밝혔다.'],\n",
       " ['유엔식량농업기구에서 발표한 세계식량가격 지수는 안정세로 전환되었다.',\n",
       "  '유제품은 상승하고 육류는 유지되었고 유지류와 곡물 그리고 설탕의 가격이 하락했지만 전체적인 곡물 생산량과 소비량이 맞아 떨어지고 있다.'],\n",
       " ['지난달 2일 민·관의 협력으로 전남 신안군 도초도에 한국 최초 덴마크형 사회교육 모델인 ‘섬마을 인생학교’가 열렸는데, 바깥 세상에서 잃어버린 것들을 내 안에서 찾아내고 인생을 돌아보며 미래를 설계하는 성인용 평생(사회)교육과정으로 참가자들의 높은 만족도에 입소문이 나 인기를 끌고 있다.',\n",
       "  \"신안군은 덴마크형 사회교육 모델인 '인생학교'를 도초도의 옛 서초등학교에 열었고 신안군수를 통해 '세상의 거친 풍파로 잃어버린 희망 등을 다시 내 안에서 찾을 수 있다.' 며 소개되었다.\"],\n",
       " [\"대한민국 대표팀으로 소집돼 U-20월드컵에서 한국 대표팀의 결승 진출을 견인한 국민영웅 이강인의 할머니 김영례씨는 '강인이가 초등학교 2학년 때 강진에 내려와 축구를 했었다'며 그때도 사람들이 '축구신동'이라고 말했다.\",\n",
       "  \"' 고 했다.\"],\n",
       " ['10년 넘게 방치돼 있던 장항선 폐철도가 태양관 발전시설을 갖추고 신재생에에너지를 생산하는 친환경 녹색 공간으로 탈바꿈하여  자전거.',\n",
       "  '보행자도로를 완공했고 폐철도를 활용한 전국 첫 사례이다.'],\n",
       " ['광주시가 산업통상자원부의 2019년도 지역산업거점기관지원사업인 ‘대용량 전력 저장용 레독스흐름전지(RFB)인증센터 구축 사업’에 최종 선정되었다.',\n",
       "  '시험인증센터가 광주에 구축된다면 레독스흐름전지와 에너지저장장치 관련 기업이 따라서 광주로 이전되는 효과와 함께 일자리가 새로 생겨나는 등 경제효과 또한 기대하고 있다.',\n",
       "  '또한 광주시는 남구 도시첨단 사업에 멀티터미널 직류배전 플랫폼 구촉사업에 2000억원을 투입하는 등 사업 추진에 적극적이다.'],\n",
       " [\"대전 지역의 한 대학에서 여전히 존재하고 있는 '선,후배간 군기문화'에 대하여 고발한 실태는 한 학생의 실례를 통해 그 일들이 불합리하고 부조리한 일이었음을 알려주고 있다.\",\n",
       "  '대학 관계자들은 이러한 일들이 반복되지 않고 대책들이 만들어질 것이라고 강조했다.'],\n",
       " ['서천 92세의 할머니가  손자.',\n",
       "  '손녀가 명문 대학을 입학한 기념으로 다닌 학교에 장학금을 전달한 기부 사연이 잔잔한 감동을 주고 있다.',\n",
       "  '할머니는 남편의 유지를 받들어 서천에 1억을 기부했고 서천사랑장학회에 500만원도 전달했다.'],\n",
       " ['경기도교육청은 사립유치원 전수감사를 통해 처분이 확정된 유치원 20곳의 명단을 교육청 홈페이지에 추가 공개하고 세금 탈루가 의심되는 19곳에 대해서는 국세청에 통보할 예정인데, 현재까지 원아 수 200명 이상 대형 유치원 120곳 중 112곳에 대한 감사를 완료했으며, 이달부터 원아 수 100명 이상 200명 미만의 사립유치원 397곳을 대상으로 감사가 진행되고 있다.',\n",
       "  '경기도교육청은 원아 수 200명 이상의 대형 유치원 120곳을 대상으로 진행한 감사 결과, 처분이 확정된 유치원 수원 6곳, 김포 4곳 등 20곳의 명단을 공개하고 세금 탈루가 의심되는 19곳을 국세청에 통보할 것이라고 밝혔다.'],\n",
       " ['여수시가 한국지방자치경영대상 시상식에서 열린 혁신부문 대상을 차지했다.',\n",
       "  '사랑방좌담회 도입,열린 청원제도,기초단체 매니페스토 우수사례 등이 평가를 받았고 정부혁신 평가에서는 전남에서 유일하게 총리상의 영예를 안았다.'],\n",
       " ['강열 광주환경공단 이사장 후보자가 시민사회단체 이사장으로 활동하면서 규정을 위반해 급여를 받은 사실이 드러나 광주시의회 인사청문특별위원회는 12일 김 후보자에 대한 인사청문회를 실시했다.',\n",
       "  '또한, 김 후보자의 경영능력에 대한 의문도 제기됐다.'],\n",
       " [\"20일 한국서부발전은 미국 전력연구소(EPRI) 및 현지 발전사들과 '글로벌 정비관리 플랫폼(Global PM 플랫폼)'을 개발 중이라고  밝혔는데, EPRI의 정비기준 개발 전용 시스템 PMBD와 서부발전의 현장 정비관리 전용 시스템 WP-PM을 연계해주는 역할을 할 이 Global PM 플랫폼을 2020년까지 개발 완료할 예정이라고 한다.\",\n",
       "  '한국서부발전은 20일 전력산업 기술 개발을 위해 1913년 설립된 비영리 컨소시엄 연구소 EPRI 및 현지 발전사들과 함께 2020년까지 두 기관의 중요 시스템인 WP-PM을 연계해주는 역할을 하는 글로벌 정비관리 플랫폼인 Global PM을 개발할 예정이다.'],\n",
       " [\"호남대학교가 개교 50주년인 2028년까지 대학교육과 산학연구, 국제연략, 학생지원,  대학경영 등의 5대 부문에서의 혁신을 통해 교육가치 창출 1위대학이 되겠다는 목표를 갖고, '호남대 vision 2028'을 발표하였으며, 대학교육 혁신으로 세상을 바꿀 수 있는 융복합대학으로 거듭나겠다는 비전을 밝혔다.\",\n",
       "  '호남대는 이를 위해 대학교육 혁신, 산학 연구 혁신, 국제역량 혁신, 학생지원 혁신, 대학경영 혁신 등 5대 혁신 발전전략과 함께 20개의 전략과제를 세부적으로 발표하였다.',\n",
       "  \"박상철 호남대 총장은 'vision2028'을 통해 호남을 대표하는 5차산업혁명 혁신선도대학으로서 지역과 국가발전을 이끌어 갈 창의 융합형 인재를 양성하기 위해 이를 수립했다고 밝혔다.\"],\n",
       " ['충청북도는 지역실정에 맞는 외국인 환자 유치사업 역량 강화 및 지자체별 특화 의료기술 발굴·지원을 위해 보건복지부에서 공모하여 국비 7500만 원을 확보하여 지역 특화 의료기술 발굴·강화하였다.',\n",
       "  '이는 지역 의료 수준 향상, 해외 시장에서 의료 기술 경쟁력 강화, 의료기관 외국인 환자 유치 등으로 지역경제가 활성화 될 것을 기대하고 있다.'],\n",
       " ['당진시건강가정지원센터는 아이돌보미 양성교육을 통해 부모의 맞벌이 등으로 양육 공백이 발생한 가정의 만3개월 이상부터 만12세 이하 아동을 아이돌보미가 직접 찾아가 돌봐주는 아이돌봄서비스를 제공하는데 이는 연중 24시간 원하는 때에 언제든 이용 가능하다.',\n",
       "  '아이돌봄서비스(지원사업)란 다.'],\n",
       " ['최근 10년 동안 폭염과 열대야 지속일이 갈수록 증가하고 있는 가운데 폭염특보가 20일 이상 지속중이다.',\n",
       "  '이에 광양시에서는 폭염으로 인한 시민들의 불편을 최소화하기 위해 지난해에 이어 도시공원 분수 시설 운용, 그늘막 설치 등을 확대하고 있다.'],\n",
       " ['광주시의 이용섭 조직위원장은 2019광주세계수영선수권대회를 성공적인 대회로 치르기 위해 최선을 다한 것에 대한 공로로 국제수영연맹(FINA)로부터 감사패를 받아 대회의 성공적인 개최를 한 것에 대한 노력을 인정받았다.',\n",
       "  '이용섭 조직위원장은 “광주가 이번 세계수영선수권대회를 통해 FINA와 뜻깊은 인연을 맺게 돼 더없이 기쁘다”면서 “저와 150만 고 밝혔다.'],\n",
       " ['전남도와 광주상공회의소는 오는 9월 6일까지 광주상공회의소 1층에서 직원과 회원사를 대상으로 우수 농수특산물을 판매한다.',\n",
       "  '이번 캠페인은 추석이 농식품 소비에 큰 비중을 차지하는 중요한 시기인 만큼 기업이 전남 농식품 소비 촉진에 적극 동참하도록 하기 위한 것이다.'],\n",
       " ['전남은 전국에서 해양 길이당 쓰레기 분포 조사 결과 제일 많은 것으로 나타났다.',\n",
       "  '이에따라 김역록 지사는 2022년까지 해양쓰레기 제로화에 나섰고 정화운반선 지원 확대등 국고 보조율 상향을 해야 한다는 목소리도 높아졌다.'],\n",
       " ['김영록 전남지사가 3차례 태풍후 피해 벼에 대해 철저한 품질관리를 부탁하였다.',\n",
       "  '피해를 입은 벼에 대해서는 적극적으로 도움이 되도록 지도해나갈 계획이라 하였다.'],\n",
       " ['화순 모 보건지소에서 같은 지소로 발령받은 부부가 흉기로 자신의 아내를 찌르고 자신도 흉기로 찌른 뒤 자해해 사망하는 사건이 일어났다.',\n",
       "  '두 사람은 최근 이혼한 사실을 바탕으로 범행 동기를 파악, 유족들과 주변인들을 대상으로 정확한 사건 경위를 조사할 예정이다.'],\n",
       " [\"9일 방송된 SBS '그것이 알고싶다'에서는 사라진 세 딸과 과외선생 함명주(가명)의 자세한 이야기를 추적했다.\",\n",
       "  '함씨와 관련된 사람들은 죽거나 사라졌고 빚 독촉에 시달리는 경우가 많았으며 방송을 본 누리꾼은 해당 의혹에 대한 수사를 촉구했다.'],\n",
       " ['자유 한국당 송언석 의원은 28일 우리나라 경제성장률이 10년 만에 최저치 도달이 좌파식 경제 실험이냐고 따졌으며 대통령 취임식에서 언급한 ‘한 번도 경험해보지 못한 나라’의 종착점이 ‘모두 함께 힘들게 사는 나라’는 아니지 않는가?',\n",
       "  '”라고 반문하면서 기업의 기(氣)를 북도우는 정책을 추진해 국가 경제회복에 앞장서야 한다”고 주장했다.'],\n",
       " ['전남, 광주에 장맛비가 쏟아지며 물난리 피해가 발생했다.',\n",
       "  '게다가 이 상황에서 전남재난안전대책본부 측의 안일한 대처도 논란이 되고 있다.'],\n",
       " [\"태안군은 지난 29일 군청 대강당에서 관계자 170여 명이 참석한 가운데 교육 발전과 학생들의 올바른 성장을 위하여 '태안군 사랑 장학회 2019년 장학증서 수여식'을 가졌으며 이날 장학회는 엄격한 심사를 거쳐 선발된 초.중.고.\",\n",
       "  '대학생 161명에게 총 3억800만 원의 장학증서를 수여했다.'],\n",
       " [\"국립남도국악원은 3일 오후 7시 국립남도국악원 진악당에서 국악연주단의 '국악의 향연' 공연을 선보일 예정인데, 노래·춤·악기의 조화를 이뤄 구성될 본 공연은 무료로 진행으로 공연 당일 오후 6시 20분 진도읍사무소, 6시 35분 십일시 사거리에서 무료 셔틀버스도 운행된다.\",\n",
       "  '무료 관람 가능한 국립남도국악원 국악연주단의 ‘국악의 향연’ 공연을 선보인다.'],\n",
       " ['영화 ‘추격자’가 TV 방영하면서 실시간 검색어에 오르며 관심을 모으고 있는 가운데 한 인터뷰에서 한재덕 대표에게 나홍진 감독 차기작이 우범곤 총기 사건을 모티프로 한다는 그 영화인가?',\n",
       "  '”라고 질문하자 나홍진 감독과는 구두로 \"함께 하자\"고 이야기를 나눈 상태라고 답했다.'],\n",
       " ['당진시보건소는 자격 기준을 갖춘 가구에 대해 매월 기저귀 6만4천원, 기저귀 및 분유 동시 최대 15만원을 지원하는 지원사업을 진행 중이다.',\n",
       "  '접수는 보건소 및 각 행정복지센터에서 가능하며, 신청 문의는 보건소 모자건강팀 041)360-6080~4로 문의하면 세부사항을 안내 받을 수 있다.'],\n",
       " ['4일 해남경찰서와 해남소방서에 따르면 지난달 30일 오전11시3분 해남군 화원면에 사는 A(79)씨가 실종됐다는 신고가 경찰에 접수되어 경찰과 소방, 육군 등이 투입되어 수색 중 수색 개시 2시간30여분만인 오전 11시35분쯤 군부대 수색견이 A씨의 것으로 추정되는 슬리퍼를 발견한 후 주변을 집중 수색하여 A를 발견했다.',\n",
       "  'A씨는 타박상 및 탈수 증상을 보였으나 그 외 큰부상 없이 발견됐다.'],\n",
       " ['고흥군은 네팔.인도.',\n",
       "  '카타르 기업대표와 총 150만불의 수출 협약을 체결하고 고흥 농수특산품 수출 및 판매 확대를 위해 상호 간 적극 노력하기로 합의하여 앞으로 수출 확대를 도모할 수 있는 좋은 기회가 될 것으로 기대하고 있으며, 몽골.체코 등 신규 수출 채널 확대에 대비해 수출경쟁력 강화에 힘쓰겠다고 밝혔다.'],\n",
       " ['13일 시교육청에 따르면 교실 공기 질 개선을 위해 겨울방학기간 36억원, 올해말까지 168억원을 투입해 대구 유.초.중.고.',\n",
       "  '특수학교 전 학급에 공기정화장치를 보급한다.'],\n",
       " [\"광주시 동구는 '아이 키우기 좋은 동구'를 목표로 생활환경.안전.교육환경.보건복지.\",\n",
       "  \"놀이권 보장을 위한 5대 분야별 '동구형 아동친화도시 종합계획을 수립하였으며, 계획에는 5대영역 20개 아동친화도시 세부사업이 포함됐다.\"],\n",
       " ['프로축구 K리그2 전남 드래곤즈가 지난 19일 전남 광양전용구장에서 아산 무궁화와의 경기에서 브루노 바이오의 대뷔골과 정재희의 쐐기골을 앞세워 2대0 승리를 거뒀다.',\n",
       "  '이는 전경준 감독 대행 체제에서 처음 울리는 승전고이다.'],\n",
       " [\"22일까지 북구에서 '지방규제 개선 아이디어'를 공모한다.\",\n",
       "  '접수된 아이디어는 6월 중 제한심사위원회에서 제안 등급을 정해 북구청장상과 함께 부상을 지급한다.'],\n",
       " ['광주문화예술회관 대극장에서 정기연주회를 개최한다.',\n",
       "  '첫곡 영웅행진곡을 장식으로 오케스트라와 오르간 만남으로 음악체험을 선사할 예정이다.'],\n",
       " ['청담동 주식부자 이희진 씨의 부모를 살해한 김씨는 이희진 씨의 동생 이희문씨가  부가티를 판 대금 중 부모에게 전달된 5억원을 훔친 것으로 드러났다.',\n",
       "  '이수정 경기대학교 범죄심리학과 교수는 이희문씨가 전달한  5억원이 집에  있었다는 사실을 알 정도라면 김씨와 이희문씨는 무연고일 가능성이 희박하다고 언급했다.'],\n",
       " [\"(재)군포문화재단이 수리산상상마을에서 진행하는 미디어아트 기획전시 '모두 잠든 밤, 빛을 주우러 가자'가 어린이들에게 새로운 경험의 기회를 제공하여 일 평균 240명의 관람객이 찾았고.\",\n",
       "  '오픈 40여일 만에 관람객 수 1만 명을 넘었다.'],\n",
       " ['광주시 어등산 관광단지 조성사업을 두고 광주도시공사와 우선협상대상자인 서진건설과 최종 사업협약 체결절차에서 이견이 좁혀지지 않고 있다.',\n",
       "  '공모지침에는 최종 협약체결 대상자는 사업이행보증금으로 전체 사업비의 10%(480억원)를 10일 이내에 납부해야 하지만 서진건설 측은 3단계로 나눠 분할납부하겠다는 제안을 하며 이견이 좁혀지지 않아 사업 자체가 좌초될 가능성이 제기되고 있다.'],\n",
       " ['2018년 공무원 임용에 합격한 충남도립대학교 학생은 총 45명(공개경쟁 37명, 경력경쟁 8명)으로 개교 이래 20년간 총 752명의 공직자가 배출됐는데, 이에 허재영 총장은 공직진출을 위해 지원한 다양한 프로그램들이 실질적 결실을 맺어가고 있으며, 앞으로 중부권 최고의 공직 배출 명문대의 명성을 계속 이어갈 수 있도록 최선을 다할 것을 다짐했다.',\n",
       "  '허재영 총장은 심야학습 등의 공직 진출을 위한 다양한 프로그램을 지원해 실질적 결실을 맺고 있는 충남도립대학교가 2018년 공무원 임용에 최종 45명 합격하며 개교 이래 총 752명의 공직자를 배출했다고 밝혔다.'],\n",
       " [\"고용노동부와 전남도가 주체하고 한국장애인고용공단 전남지사와 한국장애인고용안정협회 전남지부가 주관해서 열리는 '전남도 장애인 기능경기대회'가 26일에 목포에서 개막한다.\",\n",
       "  '이 대회에는 24개의 직종에 216명의 선수가 참가할 예정이다.'],\n",
       " [\"19일 방송된 MBC PD수첩 '검찰, 반성 없는 반성문' 편에서는 2013년 원주의 한 별장에서 사회 고위급 인사가 성접대하는 모습이 담긴 영상이 공개됐고, 이 남성이 김학의 전 법무부 차관이 아니냐는 의혹이 불거졌음에도 불구하고 인물을 특정할 수 없다는 등 여러 이해할 수 없는 이유를 들어 사건을 덮은 검찰의 이야기를 다뤘다.\",\n",
       "  '검찰이 덮었으나, 지난해 7월 법무부 검찰 과거사 위원회에서 검찰권 남용 의혹 사건으로 선정된 김학의 전 차관 별장 성접대 사건을 다루었다.'],\n",
       " ['현대차는 10일 GM 및 BMW 등에서 전문적인 경력을 가진 서주호 디자이너를 현대디자인이노베이션실 상무로 영입한다고 발표했다.',\n",
       "  '현대자동차는 디자이너로서 20년의 다채로운 경험과 스타트업에서의 근무 경력은 기존 선행디자인 조직의 혁신과 역할 확대에 상당히 부합할 것으로 기대하고 있는데,  특히 고성능 전기차의 선행 및 양산 디자인을 이끈 서주호 디자이너의 경력은 현대차  EV 라이업 디자인의 경쟁력을 제고하는 데 기여할 것으로 예상하고 있다.'],\n",
       " ['민선7기 광주시가 사회적 대통합의 광주형일자리 모델인 광주글로벌모터스가 26일 공장 착공 기공식을 하여 공사에 돌입한다.',\n",
       "  '생산직 채용은 투명성을 확보하려 외부 전문업체에 위탁하는 방식으로 진행한다.'],\n",
       " [\"태안군은 23일 군청 브리핑실에서 정례 브리핑을 통해 '문화가 있는 태안'건설에 나선다고 하였다.\",\n",
       "  '지역의 문화유산을 적극 발굴, 보존하여 다양한 시책을 추진키로 했다.',\n",
       "  '또한 문용현 문화예술과장은 \"올해 1월 기존의 \\'문화관광체육과\\'를 각 분야별로 분과하여 정책 추진력을 높였으며, 앞으로 군민 여가활동의 품격을 높일 수 있도록 하겠다\"고 말했다.'],\n",
       " ['제4회 부천세계비보이대회(BBIC)가 6일부터 8일까지 3일간 부천시청 어울마당에서 펼쳐진다.',\n",
       "  '부천세계비보이대회는 국내 유일 비보이 세계대회로 부천시가 주최하고 세계 5대 메이저 대회를 석권한 비보이팀 진조크루가 주관한다.',\n",
       "  '24개국 600여 명의 비보이가 참가해 총상금 4천200만 원을 놓고 열띤 경쟁을 펼치며 매일 다른 매력의 무대를 선보인다.'],\n",
       " [\"논산시는 19일에 웰빙을 넘어 웰다잉으로 '아름다운 노년만들기'에 나섰다.\",\n",
       "  \"'웰다잉 전문 지도자'교육은 고령화시대에 맞춰 건강한 노후를 추구, 삶의 가치 및 생명존중 문화 확산을 통한 건강한 지역사회를 구현하기 뒤한 직원 연량 강화 교육이다.\",\n",
       "  '이에 논산시보건소 관계자는 \"초고령화로 가는 현재\\'웰빙, 웰다잉\\' 웰에이징\\' 할 수 있도록 도와주는 존재는 필수이며 \"전문 지도자 양성을 통해 행복한 노후를 응원하고, 안내할 수 있도록 최선을 다하겠다\"고 말하였다.'],\n",
       " ['2018- 2019 유럽축구연맹(UEFA) 챔피언스리그(이하 UCL)에서 메시가 현재 8골로 최다 득점을 기록하고 있고 호날두 역시 앞서 열린 UCL 16강 2차전에서 헤트트릭을 기록하며, 호날두 역시 앞서 열린 UCL 16강 2차전에서 헤트트릭을 기록하며 ‘인생 경기’를 펼쳤다.',\n",
       "  '세기의 라이벌인 두 사람의 득점 경쟁이 치열하다.'],\n",
       " [\"남도일보는 9일 1층 대회의실에서 강신중 법무법인 강율 대표 변호사를 초청해 임직원들을 대상으로 '양성평등 및 공정보도와 취재윤리'를 주제로 직원 역량 강화 교육을 실시했는데, 강 변호사는 언론의 자유가 언론의 공정성을 훼손할 위험성과 세대간 간극으로 인한 직장 내 성범죄 문제에 대해 설명했다.\",\n",
       "  \"직장 내 성범죄의 원인인 '세대간 성인식의 간극'이 벌어지지 않도록 의식 개선이 중요하다고 강조했다.\"],\n",
       " ['광주 도구가 2020년 신규 역점시책 보고히를 개최했다.',\n",
       "  '신규시책93건 역점시책 142건이 나왔으며 이번 보고회에서 제안된 사업을 토대로 보완, 수정을 거쳐 예산안 편성과 주요업무계획에 반영할 방침이다.'],\n",
       " ['대진대학교 휴먼건축공학부가 양국 건축의 차이를 이해하고 상호 보완하여 미래 건축에 대한 답을 찾아보고자 개최한 ‘제1회 한·일 취업연계 학생교류’에서 한일 건축전공 학생 15명(한국 11명, 일본 4명)이 참가해 3일간의 합숙을 통해 많은 학생들이 실생활에 반영할 수 있는 창의적 아이디어를 제시하는 등 기대 이상의 성과를 이뤄냈다.',\n",
       "  '대진대학교 휴먼건축공학부가  3일간 주제에 대한 집중토의를  하면서 양국 건축의 차이를 이해하고 상호 보완하여 미래 건축의 해답을 찾아보고자  한일 건축전공 학생 15명(한국 11명, 일본 4명)이  통해  참석한 ‘제1회 한·일 취업연계 학생교류’를 진행 했다.'],\n",
       " [\"3월 4일부터 31일까지 대전일보사 1층 복합문화예술공간 Lab MAR's 에서 화성을 흥미롭게 보고 즐길 수 있도록 '화성에 대한 오해와 진실', '화성탐사의 역사', '탐사차가 보낸 화성 영상', '화성 포토존'의 4개의 존으로 구성된 '화성, 너 누구니?\",\n",
       "  \"' 전시회를 개최한다.\"],\n",
       " ['나주 혁신도시 이노시티 애시앙이 20일날 1천478가구를 분양한다고 밝혔다.',\n",
       "  '여러 옵션과 서비스, 커뮤니티 시설이 들어서며 근처에 한국전력 공사 본사를 비롯한 총 16개의 공공기관과 협력업체들이 다수 포진해 있어 직주근접 요소를 갖췄다.',\n",
       "  '23일~24일 특별공급을 시작으로 25일 1순위 청약, 28일 2순위 청약을 받는다.'],\n",
       " ['제11회 즐거운 2019 목재페스티벌이 열렸다.',\n",
       "  '경기대회와 함께 목재체험부스가 진행됐다.',\n",
       "  '목재페스티벌은 친환경 재료이며 인체 친화재료인 목재의 중요성과 효율성을 알리는 체험교육의 장으로 자리잡았다.'],\n",
       " ['수원에서 14년 동안 해장국을 운영해온 이창성·양숙희 대표가 구 원당가든 자리에 ‘원당해장’을 개업했으며 가장 신선하고 맛좋은 고기를 제공하고 있으며 배추김치와 깍두기맛도 자랑할 만하다.',\n",
       "  '대표가 직접 주방서 요리하며 48시간 푹 고은 육수를 사용해 정성을 더했다.'],\n",
       " [\"23일 세종시의회 '2019 행정사무감사'의 교육안전위원회 진행 중 의원간 진행절차 이견으로 인한 감사 중단 사태가 벌어졌다.\",\n",
       "  '5분여간 상병헌 위원장과 윤형권 의원 간의 고성으로 중단된 감사는 약 2시간 이후 재개되었으며, 상위원장은 진행절차 협의사항에 대해 고지하고 윤 의원은 항의에 대하여 사과를 표명하였다.']]"
      ]
     },
     "execution_count": 19,
     "metadata": {
      "tags": []
     },
     "output_type": "execute_result"
    }
   ],
   "source": [
    "multi_abstractives = []\n",
    "for abstractive in train_df['abstractive'].values:\n",
    "    sents_splited = kss.split_sentences(abstractive)\n",
    "    if len(sents_splited) > 1:\n",
    "        is_multi_sent = False\n",
    "        for sent_splited in sents_splited:\n",
    "            if sent_splited[-1] in ['.','?' ]:\n",
    "                is_multi_sent = True\n",
    "            else:\n",
    "                is_multi_sent = False\n",
    "                break\n",
    "        if is_multi_sent:\n",
    "            multi_abstractives.append(sents_splited)\n",
    "print(len(multi_abstractives))\n",
    "multi_abstractives"
   ]
  },
  {
   "cell_type": "markdown",
   "metadata": {},
   "source": [
    "대부분이 1문장으로 구성되어 있으며 일부(86개)만 2문장 이상으로 구성되어 있음"
   ]
  },
  {
   "cell_type": "markdown",
   "metadata": {},
   "source": [
    "### Word 분포"
   ]
  },
  {
   "cell_type": "code",
   "execution_count": 26,
   "metadata": {
    "colab": {
     "base_uri": "https://localhost:8080/",
     "height": 410
    },
    "id": "MvodYUjjrJOa",
    "outputId": "f9137788-1cae-4b9f-b004-17ece80364c2"
   },
   "outputs": [
    {
     "data": {
      "text/plain": [
       "<matplotlib.axes._subplots.AxesSubplot at 0x7fda272414e0>"
      ]
     },
     "execution_count": 26,
     "metadata": {
      "tags": []
     },
     "output_type": "execute_result"
    },
    {
     "data": {
      "image/png": "[encoded data removed]",
      "text/plain": [
       "<Figure size 1152x432 with 2 Axes>"
      ]
     },
     "metadata": {
      "tags": []
     },
     "output_type": "display_data"
    }
   ],
   "source": [
    "# word 수\n",
    "import re\n",
    "abstractive_word_counts = train_df['abstractive'].apply(lambda x:len(re.split('\\s', x)))\n",
    "\n",
    "fig, axs = plt.subplots(1, 2, figsize=(16, 6), gridspec_kw=dict(width_ratios=[4, 3]))\n",
    "sns.histplot(abstractive_word_counts, binwidth=1, ax=axs[0])\n",
    "sns.boxplot(abstractive_word_counts, ax=axs[1])"
   ]
  },
  {
   "cell_type": "code",
   "execution_count": null,
   "metadata": {
    "colab": {
     "base_uri": "https://localhost:8080/"
    },
    "id": "DZa7rOYtraEu",
    "outputId": "6a10763a-9866-4c79-9ddf-97cb2497aa9c"
   },
   "outputs": [
    {
     "data": {
      "text/plain": [
       "count    42803.000000\n",
       "mean        26.113427\n",
       "std          8.133630\n",
       "min          3.000000\n",
       "25%         20.000000\n",
       "50%         25.000000\n",
       "75%         31.000000\n",
       "max         98.000000\n",
       "Name: abstractive, dtype: float64"
      ]
     },
     "execution_count": 21,
     "metadata": {
      "tags": []
     },
     "output_type": "execute_result"
    }
   ],
   "source": [
    "abstractive_word_counts.describe()"
   ]
  },
  {
   "cell_type": "markdown",
   "metadata": {
    "id": "l1F50JVhrGNT"
   },
   "source": [
    "## 추출요약 정답(extractive)"
   ]
  },
  {
   "cell_type": "code",
   "execution_count": null,
   "metadata": {
    "colab": {
     "base_uri": "https://localhost:8080/"
    },
    "id": "82c-6TZZrufp",
    "outputId": "5ae20be6-510d-4c59-b8ba-c6afd6ddaead"
   },
   "outputs": [
    {
     "data": {
      "text/plain": [
       "[0, 1, 3]"
      ]
     },
     "execution_count": 22,
     "metadata": {
      "tags": []
     },
     "output_type": "execute_result"
    }
   ],
   "source": [
    "train_df['extractive'][1]"
   ]
  },
  {
   "cell_type": "code",
   "execution_count": null,
   "metadata": {
    "colab": {
     "base_uri": "https://localhost:8080/"
    },
    "id": "3pmp9ptQVZ7V",
    "outputId": "f35b5790-42ea-4ef2-abb8-edbe36119320"
   },
   "outputs": [
    {
     "data": {
      "text/plain": [
       "['미국 메이저리그(MLB)에서 활동하는 한국 선수들의 시즌 초반 희비가 엇갈리고 있다.',\n",
       " 'LA 에인절스의 최지만은 맹활약으로 주전 입지를 굳혀가는 반면 텍사스 레인저스의 추신수는 개막전 선발에서 밀려나는 수모를 당한 뒤에서도 좀처럼 반등을 하지 못하고 있다.',\n",
       " '시즌 타율은 0.250에서 0.313(16타수 5안타)로 올랐다.']"
      ]
     },
     "execution_count": 26,
     "metadata": {
      "tags": []
     },
     "output_type": "execute_result"
    }
   ],
   "source": [
    "train_df['extractive_sents'][1]"
   ]
  },
  {
   "cell_type": "code",
   "execution_count": null,
   "metadata": {
    "colab": {
     "base_uri": "https://localhost:8080/"
    },
    "id": "kIAaBos9_JtY",
    "outputId": "bbe50607-ea19-41ba-a3f3-d5e06f3be370"
   },
   "outputs": [
    {
     "data": {
      "text/plain": [
       "0        당진시 문화관광과를 대상으로 하는 행정사무감사에서 당진시립합창단 관계자가 보낸 것으...\n",
       "1        미국 메이저리그(MLB)에서 활동하는 한국 선수들의 시즌 초반 희비가 엇갈리고 있다...\n",
       "2        16일 부평구와 협회 등에 따르면 부영공원 안에 있는 야구장을 구생활체육야구협회가 ...\n",
       "3        대구·경북첨단의료산업진흥재단(이하 대구첨복재단) 의약생산센터는 주세제 특수제제인 세...\n",
       "4        식품의약품안전처는 29일 여름철 어린이가 즐겨 마시는 탄산음료 282개와 혼합음료 ...\n",
       "                               ...                        \n",
       "42798    칠곡북삼초등학교(교장 서금자)에서는 지난달 7일부터 18일까지 3-5학년 학생 중 ...\n",
       "42799    최근 5년간, LH공공임대 임차인이 사망했으나 상속되거나 반환되지 못한 임대보증금이...\n",
       "42800    경기도의 ‘DMZ 155마일 걷기’ 행사가 5일 오전 파주 임진각에서 열린 출정식을...\n",
       "42801    지난 14일 기준 휘발유 가격이 가장 저렴한 곳은 AJ토탈(주)당진주유소(신평)였으...\n",
       "42802    양승조 충남도지사는 12일 대기오염물질 배출 주요 사업장인 현대제철㈜ 당진공장을 찾...\n",
       "Name: extractive_sents, Length: 42803, dtype: object"
      ]
     },
     "execution_count": 29,
     "metadata": {
      "tags": []
     },
     "output_type": "execute_result"
    }
   ],
   "source": [
    "# train_df['extractive_sents'].apply(lambda tmp_list: ' '.join(tmp_list) )"
   ]
  },
  {
   "cell_type": "markdown",
   "metadata": {},
   "source": [
    "### Sentence 분포"
   ]
  },
  {
   "cell_type": "code",
   "execution_count": 153,
   "metadata": {},
   "outputs": [
    {
     "data": {
      "text/plain": [
       "Counter({3: 42566, 2: 234, 1: 3})"
      ]
     },
     "execution_count": 153,
     "metadata": {},
     "output_type": "execute_result"
    }
   ],
   "source": [
    "import collections\n",
    "\n",
    "temp = []\n",
    "for l in train_df['extractive']:\n",
    "    temp.append(len(l))\n",
    "    \n",
    "collections.Counter(temp)"
   ]
  },
  {
   "cell_type": "code",
   "execution_count": null,
   "metadata": {
    "colab": {
     "base_uri": "https://localhost:8080/",
     "height": 383
    },
    "id": "9IjhD8CYIUrD",
    "outputId": "a3c5dbe1-141d-44ae-e9ea-f0f1143de031"
   },
   "outputs": [
    {
     "data": {
      "text/plain": [
       "<seaborn.axisgrid.FacetGrid at 0x7faab8b33f98>"
      ]
     },
     "execution_count": 24,
     "metadata": {
      "tags": []
     },
     "output_type": "execute_result"
    },
    {
     "data": {
      "image/png": "[encoded data removed]",
      "text/plain": [
       "<Figure size 360x360 with 1 Axes>"
      ]
     },
     "metadata": {
      "tags": []
     },
     "output_type": "display_data"
    }
   ],
   "source": [
    "extractives = []\n",
    "for extractive_idxes in train_df['extractive'].values:\n",
    "    extractives += extractive_idxes\n",
    "\n",
    "sns.displot(extractives, binwidth=1)  # , x=\"flipper_length_mm\""
   ]
  },
  {
   "cell_type": "markdown",
   "metadata": {},
   "source": [
    "데이터가 뉴스임에 따라 글의 앞 문장일수록 extractive summary에 포함될 확률이 굉장히 높음"
   ]
  },
  {
   "cell_type": "markdown",
   "metadata": {},
   "source": [
    "### Word 분포"
   ]
  },
  {
   "cell_type": "code",
   "execution_count": null,
   "metadata": {
    "colab": {
     "base_uri": "https://localhost:8080/",
     "height": 412
    },
    "id": "1EXO7_q4Kic8",
    "outputId": "64321401-558a-49bd-9d75-6510c2f7fa00",
    "scrolled": true
   },
   "outputs": [
    {
     "data": {
      "text/plain": [
       "<matplotlib.axes._subplots.AxesSubplot at 0x7faa9e1973c8>"
      ]
     },
     "execution_count": 27,
     "metadata": {
      "tags": []
     },
     "output_type": "execute_result"
    },
    {
     "data": {
      "image/png": "[encoded data removed]",
      "text/plain": [
       "<Figure size 1152x432 with 2 Axes>"
      ]
     },
     "metadata": {
      "tags": []
     },
     "output_type": "display_data"
    }
   ],
   "source": [
    "# word 수\n",
    "extractive_word_counts = train_df['extractive_sents'].apply(lambda x:len(' '.join(x).split(' ')))\n",
    "\n",
    "fig, axs = plt.subplots(1, 2, figsize=(16, 6), gridspec_kw=dict(width_ratios=[4, 3]))\n",
    "sns.histplot(extractive_word_counts, binwidth=1, ax=axs[0])\n",
    "sns.boxplot(extractive_word_counts, ax=axs[1])"
   ]
  },
  {
   "cell_type": "markdown",
   "metadata": {},
   "source": [
    "## 데이터 내 키워드 bi-gram 분포"
   ]
  },
  {
   "cell_type": "code",
   "execution_count": null,
   "metadata": {
    "id": "o-A2Zjg4_vKw"
   },
   "outputs": [],
   "source": [
    "# 폰트 설치\n",
    "# !sudo apt-get install -y fonts-nanum\n",
    "# !sudo fc-cache -fv\n",
    "# !rm ~/.cache/matplotlib -rf\n",
    "\n",
    "# !pip install sklearn"
   ]
  },
  {
   "cell_type": "code",
   "execution_count": 8,
   "metadata": {
    "id": "4bkYhAZoBlQo"
   },
   "outputs": [],
   "source": [
    "import matplotlib.pyplot as plt\n",
    "plt.rc('font', family='NanumBarunGothic') "
   ]
  },
  {
   "cell_type": "markdown",
   "metadata": {
    "id": "NueTe6AO2shI"
   },
   "source": [
    "### 키워드 추출"
   ]
  },
  {
   "cell_type": "code",
   "execution_count": 10,
   "metadata": {
    "id": "eILOe0g2q1um"
   },
   "outputs": [],
   "source": [
    "from sklearn.feature_extraction.text import CountVectorizer\n",
    "\n",
    "def get_top_ngram(corpus, n=None):\n",
    "    vec = CountVectorizer(ngram_range=(n, n)).fit(corpus)\n",
    "    bag_of_words = vec.transform(corpus)\n",
    "    sum_words = bag_of_words.sum(axis=0) \n",
    "    words_freq = [(word, sum_words[0, idx]) for word, idx in vec.vocabulary_.items()]\n",
    "    words_freq =sorted(words_freq, key = lambda x: x[1], reverse=True)\n",
    "    return words_freq[:20]"
   ]
  },
  {
   "cell_type": "code",
   "execution_count": 14,
   "metadata": {
    "colab": {
     "base_uri": "https://localhost:8080/",
     "height": 994
    },
    "id": "x5ru6TeJqM8m",
    "outputId": "16c75074-4b52-4db6-c292-4a3f0ccd0c7a"
   },
   "outputs": [
    {
     "data": {
      "text/plain": [
       "Text(0.5, 0.98, 'Common bigrams')"
      ]
     },
     "execution_count": 14,
     "metadata": {},
     "output_type": "execute_result"
    },
    {
     "data": {
      "image/png": "[encoded data removed]",
      "text/plain": [
       "<Figure size 1080x1080 with 3 Axes>"
      ]
     },
     "metadata": {},
     "output_type": "display_data"
    }
   ],
   "source": [
    "from konlpy.tag import Mecab\n",
    "tokenizer = Mecab()\n",
    "\n",
    "fig,ax=plt.subplots(1,3,figsize=(15,15))\n",
    "\n",
    "doc = train_df['abstractive']\n",
    "doc = doc.apply(lambda sent: ' '.join(tokenizer.morphs(sent)))\n",
    "top_n_bigrams=get_top_ngram(doc,2)[:20]\n",
    "x,y=map(list,zip(*top_n_bigrams))\n",
    "sns.barplot(x=y,y=x,ax=ax[0]).set_title('In abstractive summary') # ,color=colors[i+1]\n",
    "\n",
    "doc = train_df['extractive_sents'].apply(lambda tmp_list: ' '.join(tmp_list) )\n",
    "doc = doc.apply(lambda sent: ' '.join(tokenizer.morphs(sent)))\n",
    "top_n_bigrams=get_top_ngram(doc,2)[:20]\n",
    "x,y=map(list,zip(*top_n_bigrams))\n",
    "sns.barplot(x=y,y=x,ax=ax[1]).set_title('In extractive summary') # ,color=colors[i+1]\n",
    "\n",
    "doc = train_df['no_extractive_sents'].apply(lambda tmp_list: ' '.join(tmp_list) )\n",
    "doc = doc.apply(lambda sent: ' '.join(tokenizer.morphs(sent)))\n",
    "top_n_bigrams=get_top_ngram(doc,2)[:20]\n",
    "x,y=map(list,zip(*top_n_bigrams))\n",
    "sns.barplot(x=y,y=x,ax=ax[2]).set_title('Not in extractive summary') # ,color=colors[i+1]\n",
    "\n",
    "    \n",
    "fig.suptitle(\"Common bigrams\")"
   ]
  },
  {
   "cell_type": "code",
   "execution_count": null,
   "metadata": {},
   "outputs": [],
   "source": []
  }
 ],
 "metadata": {
  "colab": {
   "collapsed_sections": [
    "aIHYTacm2u9b",
    "NueTe6AO2shI"
   ],
   "name": "EDA_hangil.ipynb",
   "provenance": [],
   "toc_visible": true
  },
  "kernelspec": {
   "display_name": "Python 3",
   "language": "python",
   "name": "python3"
  },
  "language_info": {
   "codemirror_mode": {
    "name": "ipython",
    "version": 3
   },
   "file_extension": ".py",
   "mimetype": "text/x-python",
   "name": "python",
   "nbconvert_exporter": "python",
   "pygments_lexer": "ipython3",
   "version": "3.6.12"
  },
  "toc": {
   "base_numbering": 1,
   "nav_menu": {},
   "number_sections": true,
   "sideBar": true,
   "skip_h1_title": false,
   "title_cell": "Table of Contents",
   "title_sidebar": "Contents",
   "toc_cell": false,
   "toc_position": {
    "height": "calc(100% - 180px)",
    "left": "10px",
    "top": "150px",
    "width": "384px"
   },
   "toc_section_display": true,
   "toc_window_display": false
  },
  "varInspector": {
   "cols": {
    "lenName": 16,
    "lenType": 16,
    "lenVar": 40
   },
   "kernels_config": {
    "python": {
     "delete_cmd_postfix": "",
     "delete_cmd_prefix": "del ",
     "library": "var_list.py",
     "varRefreshCmd": "print(var_dic_list())"
    },
    "r": {
     "delete_cmd_postfix": ") ",
     "delete_cmd_prefix": "rm(",
     "library": "var_list.r",
     "varRefreshCmd": "cat(var_dic_list()) "
    }
   },
   "types_to_exclude": [
    "module",
    "function",
    "builtin_function_or_method",
    "instance",
    "_Feature"
   ],
   "window_display": false
  }
 },
 "nbformat": 4,
 "nbformat_minor": 1
}
