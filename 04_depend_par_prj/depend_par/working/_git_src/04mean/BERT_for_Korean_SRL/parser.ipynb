{
 "cells": [
  {
   "cell_type": "code",
   "execution_count": 13,
   "metadata": {},
   "outputs": [],
   "source": [
    "import json\n",
    "import sys\n",
    "sys.path.insert(0,'../')\n",
    "from konlpy.tag import Kkma\n",
    "\n",
    "import numpy as np\n",
    "import torch\n",
    "from torch import nn\n",
    "from torch.optim import Adam\n",
    "from torch.utils.data import TensorDataset, DataLoader, RandomSampler, SequentialSampler\n",
    "device = torch.device(\"cuda\" if torch.cuda.is_available() else \"cpu\")"
   ]
  },
  {
   "cell_type": "code",
   "execution_count": 2,
   "metadata": {},
   "outputs": [
    {
     "name": "stderr",
     "output_type": "stream",
     "text": [
      "Using TensorFlow backend.\n"
     ]
    },
    {
     "name": "stdout",
     "output_type": "stream",
     "text": [
      "Better speed can be achieved with apex installed from https://www.github.com/nvidia/apex.\n"
     ]
    }
   ],
   "source": [
    "from BERT_for_Korean_SRL import bert_srl\n",
    "from BERT_for_Korean_SRL import preprocessor"
   ]
  },
  {
   "cell_type": "code",
   "execution_count": 3,
   "metadata": {},
   "outputs": [],
   "source": [
    "try:\n",
    "    dir_path = os.path.dirname(os.path.abspath( __file__ ))\n",
    "except:\n",
    "    dir_path = '.'"
   ]
  },
  {
   "cell_type": "code",
   "execution_count": 21,
   "metadata": {},
   "outputs": [],
   "source": [
    "class srl_parser():\n",
    "    \n",
    "    def __init__(self, model_dir=dir_path+'/model/model.pt', batch_size=1):\n",
    "        try:\n",
    "            self.model = torch.load(model_dir)\n",
    "            self.model.to(device);\n",
    "            self.model.eval()\n",
    "        except KeyboardInterrupt:\n",
    "            raise\n",
    "        except:\n",
    "            print('model dir', model_dir, 'is not valid ')\n",
    "            \n",
    "        self.bert_io = bert_srl.for_BERT(mode='test')\n",
    "        self.batch_size = batch_size\n",
    "        \n",
    "    def ko_srl_parser(self, text):\n",
    "        \n",
    "        input_data = preprocessor.preprocessing(text)        \n",
    "        input_tgt_data = preprocessor.data2tgt_data(input_data)        \n",
    "        input_data_bert = self.bert_io.convert_to_bert_input(input_tgt_data)        \n",
    "        input_dataloader = DataLoader(input_data_bert, batch_size=self.batch_size)\n",
    "        \n",
    "        pred_args = []\n",
    "        for batch in input_dataloader:\n",
    "            batch = tuple(t.to(device) for t in batch)\n",
    "            b_input_ids, b_input_orig_tok_to_maps, b_input_masks = batch\n",
    "            \n",
    "            with torch.no_grad():\n",
    "                logits = self.model(b_input_ids, token_type_ids=None,\n",
    "                               attention_mask=b_input_masks)\n",
    "            logits = logits.detach().cpu().numpy()\n",
    "            b_pred_args = [list(p) for p in np.argmax(logits, axis=2)]\n",
    "            \n",
    "            for b_idx in range(len(b_pred_args)):\n",
    "                \n",
    "                input_id = b_input_ids[b_idx]\n",
    "                orig_tok_to_map = b_input_orig_tok_to_maps[b_idx]                \n",
    "                pred_arg_bert = b_pred_args[b_idx]\n",
    "\n",
    "                pred_arg = []\n",
    "                for tok_idx in orig_tok_to_map:\n",
    "                    if tok_idx != -1:\n",
    "                        tok_id = int(input_id[tok_idx])\n",
    "                        if tok_id == 1:\n",
    "                            pass\n",
    "                        elif tok_id == 2:\n",
    "                            pass\n",
    "                        else:\n",
    "                            pred_arg.append(pred_arg_bert[tok_idx])                            \n",
    "                pred_args.append(pred_arg)\n",
    "                \n",
    "        pred_arg_tags_old = [[self.bert_io.idx2tag[p_i] for p_i in p] for p in pred_args]\n",
    "        \n",
    "        result = []\n",
    "        for b_idx in range(len(pred_arg_tags_old)):\n",
    "            pred_arg_tag_old = pred_arg_tags_old[b_idx]\n",
    "            pred_arg_tag = []\n",
    "            for t in pred_arg_tag_old:\n",
    "                if t == 'X':\n",
    "                    new_t = 'O'\n",
    "                else:\n",
    "                    new_t = t\n",
    "                pred_arg_tag.append(new_t)\n",
    "                \n",
    "            instance = []\n",
    "            instance.append(input_data[b_idx][0])\n",
    "            instance.append(input_data[b_idx][1])\n",
    "            instance.append(pred_arg_tag)\n",
    "            \n",
    "            result.append(instance)\n",
    "        \n",
    "        return result\n",
    "            "
   ]
  },
  {
   "cell_type": "code",
   "execution_count": 22,
   "metadata": {},
   "outputs": [],
   "source": [
    "# p = srl_parser(model_dir='/disk_4/BERT_for_Korean_SRL/models/ko-srl-epoch-4.pt')"
   ]
  },
  {
   "cell_type": "code",
   "execution_count": 23,
   "metadata": {},
   "outputs": [
    {
     "name": "stdout",
     "output_type": "stream",
     "text": [
      "[[['애플은', '미국에서', '태어난', '스티브', '잡스가', '설립한', '컴퓨터', '회사이다.'], ['_', '_', '태어나.v', '_', '_', '_', '_', '_'], ['O', 'ARGM-LOC', 'O', 'O', 'ARG1', 'O', 'O', 'O']], [['애플은', '미국에서', '태어난', '스티브', '잡스가', '설립한', '컴퓨터', '회사이다.'], ['_', '_', '_', '_', '_', '설립하.v', '_', '_'], ['O', 'O', 'O', 'O', 'ARG0', 'O', 'O', 'ARG1']]]\n"
     ]
    }
   ],
   "source": [
    "# text = '애플은 미국에서 태어난 스티브 잡스가 설립한 컴퓨터 회사이다.'\n",
    "\n",
    "# d = p.ko_srl_parser(text)\n",
    "# print(d)"
   ]
  }
 ],
 "metadata": {
  "kernelspec": {
   "display_name": "Python 3",
   "language": "python",
   "name": "python3"
  },
  "language_info": {
   "codemirror_mode": {
    "name": "ipython",
    "version": 3
   },
   "file_extension": ".py",
   "mimetype": "text/x-python",
   "name": "python",
   "nbconvert_exporter": "python",
   "pygments_lexer": "ipython3",
   "version": "3.6.5"
  }
 },
 "nbformat": 4,
 "nbformat_minor": 2
}
